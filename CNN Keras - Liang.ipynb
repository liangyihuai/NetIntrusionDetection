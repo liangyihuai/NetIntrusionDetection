{
 "cells": [
  {
   "cell_type": "code",
   "execution_count": 1,
   "metadata": {
    "collapsed": false
   },
   "outputs": [
    {
     "name": "stderr",
     "output_type": "stream",
     "text": [
      "C:\\Users\\LDH\\Anaconda3\\lib\\site-packages\\h5py\\__init__.py:34: FutureWarning: Conversion of the second argument of issubdtype from `float` to `np.floating` is deprecated. In future, it will be treated as `np.float64 == np.dtype(float).type`.\n",
      "  from ._conv import register_converters as _register_converters\n",
      "Using TensorFlow backend.\n"
     ]
    }
   ],
   "source": [
    "from __future__ import print_function\n",
    "import keras \n",
    "from keras.datasets import mnist\n",
    "from keras.models import Sequential\n",
    "from keras.layers import Dense, Dropout, Flatten, Activation\n",
    "from keras.layers import LeakyReLU\n",
    "from keras.layers import Conv2D, MaxPooling2D\n",
    "from keras import backend as K\n",
    "from keras.callbacks import ModelCheckpoint\n",
    "\n",
    "import numpy as np\n",
    "import pandas as pd\n",
    "\n",
    "import tensorflow as tf\n",
    "import datetime\n",
    "import os\n",
    "from time import time"
   ]
  },
  {
   "cell_type": "code",
   "execution_count": null,
   "metadata": {
    "collapsed": true
   },
   "outputs": [],
   "source": []
  },
  {
   "cell_type": "code",
   "execution_count": 2,
   "metadata": {
    "collapsed": true
   },
   "outputs": [],
   "source": [
    "# Path to saved model weights(as hdf5)\n",
    "resume_weights = \"model/net-cnn-best.hdf5\"\n",
    "\n",
    "# Hyper-parameters\n",
    "batch_size = 128\n",
    "num_classes = 15\n",
    "epochs = 32\n",
    "\n",
    "# input image dimensions\n",
    "img_rows, img_cols = 64, 32"
   ]
  },
  {
   "cell_type": "code",
   "execution_count": 9,
   "metadata": {
    "collapsed": false
   },
   "outputs": [],
   "source": [
    "PATH = 'tmp/x_train/balanced-raw0_10000'\n",
    "temp = pd.read_csv(PATH, dtype=np.uint8, sep=',', header=None, index_col=0)\n"
   ]
  },
  {
   "cell_type": "code",
   "execution_count": 10,
   "metadata": {
    "collapsed": false,
    "scrolled": true
   },
   "outputs": [
    {
     "data": {
      "text/plain": [
       "(10000, 2048)"
      ]
     },
     "execution_count": 10,
     "metadata": {},
     "output_type": "execute_result"
    }
   ],
   "source": [
    "temp.shape"
   ]
  },
  {
   "cell_type": "code",
   "execution_count": 11,
   "metadata": {
    "collapsed": false
   },
   "outputs": [
    {
     "data": {
      "text/plain": [
       "(10000, 2048)"
      ]
     },
     "execution_count": 11,
     "metadata": {},
     "output_type": "execute_result"
    }
   ],
   "source": [
    "temp.shape"
   ]
  },
  {
   "cell_type": "code",
   "execution_count": 12,
   "metadata": {
    "collapsed": false,
    "scrolled": false
   },
   "outputs": [
    {
     "data": {
      "text/html": [
       "<div>\n",
       "<style scoped>\n",
       "    .dataframe tbody tr th:only-of-type {\n",
       "        vertical-align: middle;\n",
       "    }\n",
       "\n",
       "    .dataframe tbody tr th {\n",
       "        vertical-align: top;\n",
       "    }\n",
       "\n",
       "    .dataframe thead th {\n",
       "        text-align: right;\n",
       "    }\n",
       "</style>\n",
       "<table border=\"1\" class=\"dataframe\">\n",
       "  <thead>\n",
       "    <tr style=\"text-align: right;\">\n",
       "      <th></th>\n",
       "      <th>1</th>\n",
       "      <th>2</th>\n",
       "      <th>3</th>\n",
       "      <th>4</th>\n",
       "      <th>5</th>\n",
       "      <th>6</th>\n",
       "      <th>7</th>\n",
       "      <th>8</th>\n",
       "      <th>9</th>\n",
       "      <th>10</th>\n",
       "      <th>...</th>\n",
       "      <th>2039</th>\n",
       "      <th>2040</th>\n",
       "      <th>2041</th>\n",
       "      <th>2042</th>\n",
       "      <th>2043</th>\n",
       "      <th>2044</th>\n",
       "      <th>2045</th>\n",
       "      <th>2046</th>\n",
       "      <th>2047</th>\n",
       "      <th>2048</th>\n",
       "    </tr>\n",
       "    <tr>\n",
       "      <th>0</th>\n",
       "      <th></th>\n",
       "      <th></th>\n",
       "      <th></th>\n",
       "      <th></th>\n",
       "      <th></th>\n",
       "      <th></th>\n",
       "      <th></th>\n",
       "      <th></th>\n",
       "      <th></th>\n",
       "      <th></th>\n",
       "      <th></th>\n",
       "      <th></th>\n",
       "      <th></th>\n",
       "      <th></th>\n",
       "      <th></th>\n",
       "      <th></th>\n",
       "      <th></th>\n",
       "      <th></th>\n",
       "      <th></th>\n",
       "      <th></th>\n",
       "      <th></th>\n",
       "    </tr>\n",
       "  </thead>\n",
       "  <tbody>\n",
       "    <tr>\n",
       "      <th>0</th>\n",
       "      <td>0</td>\n",
       "      <td>0</td>\n",
       "      <td>1</td>\n",
       "      <td>0</td>\n",
       "      <td>0</td>\n",
       "      <td>0</td>\n",
       "      <td>0</td>\n",
       "      <td>0</td>\n",
       "      <td>0</td>\n",
       "      <td>0</td>\n",
       "      <td>...</td>\n",
       "      <td>0</td>\n",
       "      <td>0</td>\n",
       "      <td>0</td>\n",
       "      <td>0</td>\n",
       "      <td>0</td>\n",
       "      <td>0</td>\n",
       "      <td>0</td>\n",
       "      <td>0</td>\n",
       "      <td>0</td>\n",
       "      <td>0</td>\n",
       "    </tr>\n",
       "    <tr>\n",
       "      <th>0</th>\n",
       "      <td>0</td>\n",
       "      <td>0</td>\n",
       "      <td>1</td>\n",
       "      <td>0</td>\n",
       "      <td>0</td>\n",
       "      <td>0</td>\n",
       "      <td>0</td>\n",
       "      <td>0</td>\n",
       "      <td>0</td>\n",
       "      <td>0</td>\n",
       "      <td>...</td>\n",
       "      <td>0</td>\n",
       "      <td>0</td>\n",
       "      <td>0</td>\n",
       "      <td>0</td>\n",
       "      <td>0</td>\n",
       "      <td>0</td>\n",
       "      <td>0</td>\n",
       "      <td>0</td>\n",
       "      <td>0</td>\n",
       "      <td>0</td>\n",
       "    </tr>\n",
       "    <tr>\n",
       "      <th>0</th>\n",
       "      <td>0</td>\n",
       "      <td>0</td>\n",
       "      <td>1</td>\n",
       "      <td>0</td>\n",
       "      <td>0</td>\n",
       "      <td>0</td>\n",
       "      <td>0</td>\n",
       "      <td>0</td>\n",
       "      <td>0</td>\n",
       "      <td>0</td>\n",
       "      <td>...</td>\n",
       "      <td>0</td>\n",
       "      <td>0</td>\n",
       "      <td>0</td>\n",
       "      <td>0</td>\n",
       "      <td>0</td>\n",
       "      <td>0</td>\n",
       "      <td>0</td>\n",
       "      <td>0</td>\n",
       "      <td>0</td>\n",
       "      <td>0</td>\n",
       "    </tr>\n",
       "    <tr>\n",
       "      <th>0</th>\n",
       "      <td>0</td>\n",
       "      <td>0</td>\n",
       "      <td>0</td>\n",
       "      <td>0</td>\n",
       "      <td>0</td>\n",
       "      <td>0</td>\n",
       "      <td>0</td>\n",
       "      <td>0</td>\n",
       "      <td>0</td>\n",
       "      <td>0</td>\n",
       "      <td>...</td>\n",
       "      <td>0</td>\n",
       "      <td>0</td>\n",
       "      <td>0</td>\n",
       "      <td>0</td>\n",
       "      <td>0</td>\n",
       "      <td>0</td>\n",
       "      <td>0</td>\n",
       "      <td>0</td>\n",
       "      <td>0</td>\n",
       "      <td>0</td>\n",
       "    </tr>\n",
       "    <tr>\n",
       "      <th>0</th>\n",
       "      <td>0</td>\n",
       "      <td>0</td>\n",
       "      <td>1</td>\n",
       "      <td>0</td>\n",
       "      <td>0</td>\n",
       "      <td>0</td>\n",
       "      <td>0</td>\n",
       "      <td>0</td>\n",
       "      <td>0</td>\n",
       "      <td>0</td>\n",
       "      <td>...</td>\n",
       "      <td>0</td>\n",
       "      <td>0</td>\n",
       "      <td>0</td>\n",
       "      <td>0</td>\n",
       "      <td>0</td>\n",
       "      <td>0</td>\n",
       "      <td>0</td>\n",
       "      <td>0</td>\n",
       "      <td>0</td>\n",
       "      <td>0</td>\n",
       "    </tr>\n",
       "  </tbody>\n",
       "</table>\n",
       "<p>5 rows × 2048 columns</p>\n",
       "</div>"
      ],
      "text/plain": [
       "   1     2     3     4     5     6     7     8     9     10    ...   2039  \\\n",
       "0                                                              ...          \n",
       "0     0     0     1     0     0     0     0     0     0     0  ...      0   \n",
       "0     0     0     1     0     0     0     0     0     0     0  ...      0   \n",
       "0     0     0     1     0     0     0     0     0     0     0  ...      0   \n",
       "0     0     0     0     0     0     0     0     0     0     0  ...      0   \n",
       "0     0     0     1     0     0     0     0     0     0     0  ...      0   \n",
       "\n",
       "   2040  2041  2042  2043  2044  2045  2046  2047  2048  \n",
       "0                                                        \n",
       "0     0     0     0     0     0     0     0     0     0  \n",
       "0     0     0     0     0     0     0     0     0     0  \n",
       "0     0     0     0     0     0     0     0     0     0  \n",
       "0     0     0     0     0     0     0     0     0     0  \n",
       "0     0     0     0     0     0     0     0     0     0  \n",
       "\n",
       "[5 rows x 2048 columns]"
      ]
     },
     "execution_count": 12,
     "metadata": {},
     "output_type": "execute_result"
    }
   ],
   "source": [
    "temp.head()"
   ]
  },
  {
   "cell_type": "code",
   "execution_count": 13,
   "metadata": {
    "collapsed": false,
    "scrolled": true
   },
   "outputs": [
    {
     "data": {
      "text/html": [
       "<div>\n",
       "<style scoped>\n",
       "    .dataframe tbody tr th:only-of-type {\n",
       "        vertical-align: middle;\n",
       "    }\n",
       "\n",
       "    .dataframe tbody tr th {\n",
       "        vertical-align: top;\n",
       "    }\n",
       "\n",
       "    .dataframe thead th {\n",
       "        text-align: right;\n",
       "    }\n",
       "</style>\n",
       "<table border=\"1\" class=\"dataframe\">\n",
       "  <thead>\n",
       "    <tr style=\"text-align: right;\">\n",
       "      <th></th>\n",
       "      <th>1</th>\n",
       "      <th>2</th>\n",
       "      <th>3</th>\n",
       "      <th>4</th>\n",
       "      <th>5</th>\n",
       "      <th>6</th>\n",
       "      <th>7</th>\n",
       "      <th>8</th>\n",
       "      <th>9</th>\n",
       "      <th>10</th>\n",
       "      <th>...</th>\n",
       "      <th>2039</th>\n",
       "      <th>2040</th>\n",
       "      <th>2041</th>\n",
       "      <th>2042</th>\n",
       "      <th>2043</th>\n",
       "      <th>2044</th>\n",
       "      <th>2045</th>\n",
       "      <th>2046</th>\n",
       "      <th>2047</th>\n",
       "      <th>2048</th>\n",
       "    </tr>\n",
       "    <tr>\n",
       "      <th>0</th>\n",
       "      <th></th>\n",
       "      <th></th>\n",
       "      <th></th>\n",
       "      <th></th>\n",
       "      <th></th>\n",
       "      <th></th>\n",
       "      <th></th>\n",
       "      <th></th>\n",
       "      <th></th>\n",
       "      <th></th>\n",
       "      <th></th>\n",
       "      <th></th>\n",
       "      <th></th>\n",
       "      <th></th>\n",
       "      <th></th>\n",
       "      <th></th>\n",
       "      <th></th>\n",
       "      <th></th>\n",
       "      <th></th>\n",
       "      <th></th>\n",
       "      <th></th>\n",
       "    </tr>\n",
       "  </thead>\n",
       "  <tbody>\n",
       "    <tr>\n",
       "      <th>0</th>\n",
       "      <td>0</td>\n",
       "      <td>0</td>\n",
       "      <td>1</td>\n",
       "      <td>0</td>\n",
       "      <td>0</td>\n",
       "      <td>0</td>\n",
       "      <td>0</td>\n",
       "      <td>0</td>\n",
       "      <td>0</td>\n",
       "      <td>0</td>\n",
       "      <td>...</td>\n",
       "      <td>0</td>\n",
       "      <td>0</td>\n",
       "      <td>0</td>\n",
       "      <td>1</td>\n",
       "      <td>0</td>\n",
       "      <td>0</td>\n",
       "      <td>0</td>\n",
       "      <td>0</td>\n",
       "      <td>0</td>\n",
       "      <td>0</td>\n",
       "    </tr>\n",
       "    <tr>\n",
       "      <th>0</th>\n",
       "      <td>1</td>\n",
       "      <td>0</td>\n",
       "      <td>0</td>\n",
       "      <td>0</td>\n",
       "      <td>0</td>\n",
       "      <td>0</td>\n",
       "      <td>0</td>\n",
       "      <td>0</td>\n",
       "      <td>0</td>\n",
       "      <td>0</td>\n",
       "      <td>...</td>\n",
       "      <td>0</td>\n",
       "      <td>0</td>\n",
       "      <td>0</td>\n",
       "      <td>0</td>\n",
       "      <td>0</td>\n",
       "      <td>0</td>\n",
       "      <td>0</td>\n",
       "      <td>0</td>\n",
       "      <td>0</td>\n",
       "      <td>0</td>\n",
       "    </tr>\n",
       "    <tr>\n",
       "      <th>0</th>\n",
       "      <td>0</td>\n",
       "      <td>0</td>\n",
       "      <td>1</td>\n",
       "      <td>0</td>\n",
       "      <td>0</td>\n",
       "      <td>0</td>\n",
       "      <td>0</td>\n",
       "      <td>0</td>\n",
       "      <td>0</td>\n",
       "      <td>0</td>\n",
       "      <td>...</td>\n",
       "      <td>0</td>\n",
       "      <td>0</td>\n",
       "      <td>0</td>\n",
       "      <td>0</td>\n",
       "      <td>0</td>\n",
       "      <td>0</td>\n",
       "      <td>0</td>\n",
       "      <td>0</td>\n",
       "      <td>0</td>\n",
       "      <td>0</td>\n",
       "    </tr>\n",
       "    <tr>\n",
       "      <th>0</th>\n",
       "      <td>0</td>\n",
       "      <td>0</td>\n",
       "      <td>1</td>\n",
       "      <td>0</td>\n",
       "      <td>0</td>\n",
       "      <td>0</td>\n",
       "      <td>0</td>\n",
       "      <td>0</td>\n",
       "      <td>0</td>\n",
       "      <td>0</td>\n",
       "      <td>...</td>\n",
       "      <td>0</td>\n",
       "      <td>0</td>\n",
       "      <td>0</td>\n",
       "      <td>0</td>\n",
       "      <td>0</td>\n",
       "      <td>0</td>\n",
       "      <td>0</td>\n",
       "      <td>0</td>\n",
       "      <td>0</td>\n",
       "      <td>0</td>\n",
       "    </tr>\n",
       "    <tr>\n",
       "      <th>0</th>\n",
       "      <td>0</td>\n",
       "      <td>0</td>\n",
       "      <td>1</td>\n",
       "      <td>0</td>\n",
       "      <td>0</td>\n",
       "      <td>0</td>\n",
       "      <td>0</td>\n",
       "      <td>0</td>\n",
       "      <td>0</td>\n",
       "      <td>0</td>\n",
       "      <td>...</td>\n",
       "      <td>0</td>\n",
       "      <td>0</td>\n",
       "      <td>0</td>\n",
       "      <td>0</td>\n",
       "      <td>0</td>\n",
       "      <td>0</td>\n",
       "      <td>0</td>\n",
       "      <td>0</td>\n",
       "      <td>0</td>\n",
       "      <td>0</td>\n",
       "    </tr>\n",
       "  </tbody>\n",
       "</table>\n",
       "<p>5 rows × 2048 columns</p>\n",
       "</div>"
      ],
      "text/plain": [
       "   1     2     3     4     5     6     7     8     9     10    ...   2039  \\\n",
       "0                                                              ...          \n",
       "0     0     0     1     0     0     0     0     0     0     0  ...      0   \n",
       "0     1     0     0     0     0     0     0     0     0     0  ...      0   \n",
       "0     0     0     1     0     0     0     0     0     0     0  ...      0   \n",
       "0     0     0     1     0     0     0     0     0     0     0  ...      0   \n",
       "0     0     0     1     0     0     0     0     0     0     0  ...      0   \n",
       "\n",
       "   2040  2041  2042  2043  2044  2045  2046  2047  2048  \n",
       "0                                                        \n",
       "0     0     0     1     0     0     0     0     0     0  \n",
       "0     0     0     0     0     0     0     0     0     0  \n",
       "0     0     0     0     0     0     0     0     0     0  \n",
       "0     0     0     0     0     0     0     0     0     0  \n",
       "0     0     0     0     0     0     0     0     0     0  \n",
       "\n",
       "[5 rows x 2048 columns]"
      ]
     },
     "execution_count": 13,
     "metadata": {},
     "output_type": "execute_result"
    }
   ],
   "source": [
    "temp.tail()"
   ]
  },
  {
   "cell_type": "code",
   "execution_count": 5,
   "metadata": {
    "collapsed": false
   },
   "outputs": [
    {
     "data": {
      "text/plain": [
       "(10000, 2048)"
      ]
     },
     "execution_count": 5,
     "metadata": {},
     "output_type": "execute_result"
    }
   ],
   "source": [
    "temp.shape"
   ]
  },
  {
   "cell_type": "code",
   "execution_count": 14,
   "metadata": {
    "collapsed": true
   },
   "outputs": [],
   "source": [
    "def get_file_name_sorted(path):\n",
    "    fileNames = os.listdir(path)\n",
    "    li = list()\n",
    "    for name in fileNames:\n",
    "        index = int(name.rsplit('_', 1)[1])\n",
    "        li.append((index, name))\n",
    "\n",
    "    li = sorted(li, key=lambda x: x[0])\n",
    "    return [i for (_, i) in li]\n",
    "\n",
    "def get_training_data():\n",
    "    y_train_path = 'tmp/y_train/y_train_raw'\n",
    "    x_train_path = 'tmp/x_train'\n",
    "    \n",
    "    y_train0 = pd.read_csv(y_train_path, dtype=np.uint8, sep=',', header=None, index_col=0)\n",
    "    \n",
    "    x_train_files = get_file_name_sorted(x_train_path)\n",
    "    x_train0 = None\n",
    "#     for i in range(len(x_train_files)):\n",
    "    for i in range(6):\n",
    "        file_path = x_train_path+'/'+x_train_files[i]\n",
    "        print(file_path)\n",
    "        if i == 0:\n",
    "            x_train0 = pd.read_csv(file_path, dtype=np.uint8, sep=',', header=None, index_col=0)\n",
    "            print(x_train0.shape)\n",
    "        else:\n",
    "            temp = pd.read_csv(file_path, dtype=np.uint8, sep=',', header=None, index_col=0)\n",
    "            x_train0 = pd.concat([pd.DataFrame(x_train0), pd.DataFrame(temp)])\n",
    "        \n",
    "    return (x_train0, y_train0)"
   ]
  },
  {
   "cell_type": "code",
   "execution_count": 15,
   "metadata": {
    "collapsed": false,
    "scrolled": true
   },
   "outputs": [
    {
     "name": "stderr",
     "output_type": "stream",
     "text": [
      "C:\\Users\\LDH\\Anaconda3\\lib\\site-packages\\numpy\\lib\\arraysetops.py:472: FutureWarning: elementwise comparison failed; returning scalar instead, but in the future will perform elementwise comparison\n",
      "  mask |= (ar1 == a)\n"
     ]
    },
    {
     "name": "stdout",
     "output_type": "stream",
     "text": [
      "tmp/x_train/balanced-raw0_10000\n",
      "(10000, 2048)\n",
      "tmp/x_train/balanced-raw1000000_1010000\n",
      "tmp/x_train/balanced-raw100000_110000\n",
      "tmp/x_train/balanced-raw10000_20000\n",
      "tmp/x_train/balanced-raw1010000_1020000\n",
      "tmp/x_train/balanced-raw1020000_1030000\n"
     ]
    }
   ],
   "source": [
    "x_train,y_train = get_training_data()"
   ]
  },
  {
   "cell_type": "code",
   "execution_count": 16,
   "metadata": {
    "collapsed": false
   },
   "outputs": [
    {
     "name": "stdout",
     "output_type": "stream",
     "text": [
      "(60000, 2048) (2038140, 1)\n"
     ]
    }
   ],
   "source": [
    "print(x_train.shape, y_train.shape)"
   ]
  },
  {
   "cell_type": "code",
   "execution_count": 23,
   "metadata": {
    "collapsed": false
   },
   "outputs": [
    {
     "data": {
      "text/html": [
       "<div>\n",
       "<style scoped>\n",
       "    .dataframe tbody tr th:only-of-type {\n",
       "        vertical-align: middle;\n",
       "    }\n",
       "\n",
       "    .dataframe tbody tr th {\n",
       "        vertical-align: top;\n",
       "    }\n",
       "\n",
       "    .dataframe thead th {\n",
       "        text-align: right;\n",
       "    }\n",
       "</style>\n",
       "<table border=\"1\" class=\"dataframe\">\n",
       "  <thead>\n",
       "    <tr style=\"text-align: right;\">\n",
       "      <th></th>\n",
       "      <th>0</th>\n",
       "      <th>1</th>\n",
       "      <th>2</th>\n",
       "      <th>3</th>\n",
       "      <th>4</th>\n",
       "      <th>5</th>\n",
       "      <th>6</th>\n",
       "      <th>7</th>\n",
       "      <th>8</th>\n",
       "      <th>9</th>\n",
       "      <th>...</th>\n",
       "      <th>2039</th>\n",
       "      <th>2040</th>\n",
       "      <th>2041</th>\n",
       "      <th>2042</th>\n",
       "      <th>2043</th>\n",
       "      <th>2044</th>\n",
       "      <th>2045</th>\n",
       "      <th>2046</th>\n",
       "      <th>2047</th>\n",
       "      <th>2048</th>\n",
       "    </tr>\n",
       "  </thead>\n",
       "  <tbody>\n",
       "    <tr>\n",
       "      <th>0</th>\n",
       "      <td>0</td>\n",
       "      <td>0</td>\n",
       "      <td>0</td>\n",
       "      <td>1</td>\n",
       "      <td>0</td>\n",
       "      <td>0</td>\n",
       "      <td>0</td>\n",
       "      <td>0</td>\n",
       "      <td>0</td>\n",
       "      <td>0</td>\n",
       "      <td>...</td>\n",
       "      <td>0</td>\n",
       "      <td>0</td>\n",
       "      <td>0</td>\n",
       "      <td>0</td>\n",
       "      <td>0</td>\n",
       "      <td>0</td>\n",
       "      <td>0</td>\n",
       "      <td>0</td>\n",
       "      <td>0</td>\n",
       "      <td>0</td>\n",
       "    </tr>\n",
       "    <tr>\n",
       "      <th>1</th>\n",
       "      <td>0</td>\n",
       "      <td>0</td>\n",
       "      <td>0</td>\n",
       "      <td>1</td>\n",
       "      <td>0</td>\n",
       "      <td>0</td>\n",
       "      <td>0</td>\n",
       "      <td>0</td>\n",
       "      <td>0</td>\n",
       "      <td>0</td>\n",
       "      <td>...</td>\n",
       "      <td>0</td>\n",
       "      <td>0</td>\n",
       "      <td>0</td>\n",
       "      <td>0</td>\n",
       "      <td>0</td>\n",
       "      <td>0</td>\n",
       "      <td>0</td>\n",
       "      <td>0</td>\n",
       "      <td>0</td>\n",
       "      <td>0</td>\n",
       "    </tr>\n",
       "    <tr>\n",
       "      <th>2</th>\n",
       "      <td>0</td>\n",
       "      <td>0</td>\n",
       "      <td>0</td>\n",
       "      <td>1</td>\n",
       "      <td>0</td>\n",
       "      <td>0</td>\n",
       "      <td>0</td>\n",
       "      <td>0</td>\n",
       "      <td>0</td>\n",
       "      <td>0</td>\n",
       "      <td>...</td>\n",
       "      <td>0</td>\n",
       "      <td>0</td>\n",
       "      <td>0</td>\n",
       "      <td>0</td>\n",
       "      <td>0</td>\n",
       "      <td>0</td>\n",
       "      <td>0</td>\n",
       "      <td>0</td>\n",
       "      <td>0</td>\n",
       "      <td>0</td>\n",
       "    </tr>\n",
       "    <tr>\n",
       "      <th>3</th>\n",
       "      <td>0</td>\n",
       "      <td>0</td>\n",
       "      <td>0</td>\n",
       "      <td>0</td>\n",
       "      <td>0</td>\n",
       "      <td>0</td>\n",
       "      <td>0</td>\n",
       "      <td>0</td>\n",
       "      <td>0</td>\n",
       "      <td>0</td>\n",
       "      <td>...</td>\n",
       "      <td>0</td>\n",
       "      <td>0</td>\n",
       "      <td>0</td>\n",
       "      <td>0</td>\n",
       "      <td>0</td>\n",
       "      <td>0</td>\n",
       "      <td>0</td>\n",
       "      <td>0</td>\n",
       "      <td>0</td>\n",
       "      <td>0</td>\n",
       "    </tr>\n",
       "    <tr>\n",
       "      <th>4</th>\n",
       "      <td>0</td>\n",
       "      <td>0</td>\n",
       "      <td>0</td>\n",
       "      <td>1</td>\n",
       "      <td>0</td>\n",
       "      <td>0</td>\n",
       "      <td>0</td>\n",
       "      <td>0</td>\n",
       "      <td>0</td>\n",
       "      <td>0</td>\n",
       "      <td>...</td>\n",
       "      <td>0</td>\n",
       "      <td>0</td>\n",
       "      <td>0</td>\n",
       "      <td>0</td>\n",
       "      <td>0</td>\n",
       "      <td>0</td>\n",
       "      <td>0</td>\n",
       "      <td>0</td>\n",
       "      <td>0</td>\n",
       "      <td>0</td>\n",
       "    </tr>\n",
       "  </tbody>\n",
       "</table>\n",
       "<p>5 rows × 2049 columns</p>\n",
       "</div>"
      ],
      "text/plain": [
       "   0     1     2     3     4     5     6     7     8     9     ...   2039  \\\n",
       "0     0     0     0     1     0     0     0     0     0     0  ...      0   \n",
       "1     0     0     0     1     0     0     0     0     0     0  ...      0   \n",
       "2     0     0     0     1     0     0     0     0     0     0  ...      0   \n",
       "3     0     0     0     0     0     0     0     0     0     0  ...      0   \n",
       "4     0     0     0     1     0     0     0     0     0     0  ...      0   \n",
       "\n",
       "   2040  2041  2042  2043  2044  2045  2046  2047  2048  \n",
       "0     0     0     0     0     0     0     0     0     0  \n",
       "1     0     0     0     0     0     0     0     0     0  \n",
       "2     0     0     0     0     0     0     0     0     0  \n",
       "3     0     0     0     0     0     0     0     0     0  \n",
       "4     0     0     0     0     0     0     0     0     0  \n",
       "\n",
       "[5 rows x 2049 columns]"
      ]
     },
     "execution_count": 23,
     "metadata": {},
     "output_type": "execute_result"
    }
   ],
   "source": [
    "x_train.head()"
   ]
  },
  {
   "cell_type": "code",
   "execution_count": 25,
   "metadata": {
    "collapsed": false
   },
   "outputs": [
    {
     "data": {
      "text/html": [
       "<div>\n",
       "<style scoped>\n",
       "    .dataframe tbody tr th:only-of-type {\n",
       "        vertical-align: middle;\n",
       "    }\n",
       "\n",
       "    .dataframe tbody tr th {\n",
       "        vertical-align: top;\n",
       "    }\n",
       "\n",
       "    .dataframe thead th {\n",
       "        text-align: right;\n",
       "    }\n",
       "</style>\n",
       "<table border=\"1\" class=\"dataframe\">\n",
       "  <thead>\n",
       "    <tr style=\"text-align: right;\">\n",
       "      <th></th>\n",
       "      <th>0</th>\n",
       "      <th>1</th>\n",
       "      <th>2</th>\n",
       "      <th>3</th>\n",
       "      <th>4</th>\n",
       "      <th>5</th>\n",
       "      <th>6</th>\n",
       "      <th>7</th>\n",
       "      <th>8</th>\n",
       "      <th>9</th>\n",
       "      <th>...</th>\n",
       "      <th>2039</th>\n",
       "      <th>2040</th>\n",
       "      <th>2041</th>\n",
       "      <th>2042</th>\n",
       "      <th>2043</th>\n",
       "      <th>2044</th>\n",
       "      <th>2045</th>\n",
       "      <th>2046</th>\n",
       "      <th>2047</th>\n",
       "      <th>2048</th>\n",
       "    </tr>\n",
       "  </thead>\n",
       "  <tbody>\n",
       "    <tr>\n",
       "      <th>9995</th>\n",
       "      <td>0</td>\n",
       "      <td>0</td>\n",
       "      <td>0</td>\n",
       "      <td>1</td>\n",
       "      <td>0</td>\n",
       "      <td>0</td>\n",
       "      <td>0</td>\n",
       "      <td>0</td>\n",
       "      <td>0</td>\n",
       "      <td>0</td>\n",
       "      <td>...</td>\n",
       "      <td>0</td>\n",
       "      <td>0</td>\n",
       "      <td>0</td>\n",
       "      <td>0</td>\n",
       "      <td>0</td>\n",
       "      <td>0</td>\n",
       "      <td>0</td>\n",
       "      <td>0</td>\n",
       "      <td>0</td>\n",
       "      <td>0</td>\n",
       "    </tr>\n",
       "    <tr>\n",
       "      <th>9996</th>\n",
       "      <td>0</td>\n",
       "      <td>0</td>\n",
       "      <td>0</td>\n",
       "      <td>1</td>\n",
       "      <td>0</td>\n",
       "      <td>0</td>\n",
       "      <td>0</td>\n",
       "      <td>0</td>\n",
       "      <td>0</td>\n",
       "      <td>0</td>\n",
       "      <td>...</td>\n",
       "      <td>0</td>\n",
       "      <td>0</td>\n",
       "      <td>0</td>\n",
       "      <td>0</td>\n",
       "      <td>0</td>\n",
       "      <td>0</td>\n",
       "      <td>0</td>\n",
       "      <td>0</td>\n",
       "      <td>0</td>\n",
       "      <td>0</td>\n",
       "    </tr>\n",
       "    <tr>\n",
       "      <th>9997</th>\n",
       "      <td>0</td>\n",
       "      <td>0</td>\n",
       "      <td>0</td>\n",
       "      <td>1</td>\n",
       "      <td>0</td>\n",
       "      <td>0</td>\n",
       "      <td>0</td>\n",
       "      <td>0</td>\n",
       "      <td>0</td>\n",
       "      <td>0</td>\n",
       "      <td>...</td>\n",
       "      <td>0</td>\n",
       "      <td>0</td>\n",
       "      <td>0</td>\n",
       "      <td>0</td>\n",
       "      <td>0</td>\n",
       "      <td>0</td>\n",
       "      <td>0</td>\n",
       "      <td>0</td>\n",
       "      <td>0</td>\n",
       "      <td>0</td>\n",
       "    </tr>\n",
       "    <tr>\n",
       "      <th>9998</th>\n",
       "      <td>0</td>\n",
       "      <td>0</td>\n",
       "      <td>0</td>\n",
       "      <td>1</td>\n",
       "      <td>0</td>\n",
       "      <td>0</td>\n",
       "      <td>0</td>\n",
       "      <td>0</td>\n",
       "      <td>0</td>\n",
       "      <td>0</td>\n",
       "      <td>...</td>\n",
       "      <td>0</td>\n",
       "      <td>0</td>\n",
       "      <td>0</td>\n",
       "      <td>0</td>\n",
       "      <td>0</td>\n",
       "      <td>0</td>\n",
       "      <td>0</td>\n",
       "      <td>0</td>\n",
       "      <td>0</td>\n",
       "      <td>0</td>\n",
       "    </tr>\n",
       "    <tr>\n",
       "      <th>9999</th>\n",
       "      <td>0</td>\n",
       "      <td>0</td>\n",
       "      <td>0</td>\n",
       "      <td>1</td>\n",
       "      <td>0</td>\n",
       "      <td>0</td>\n",
       "      <td>0</td>\n",
       "      <td>0</td>\n",
       "      <td>0</td>\n",
       "      <td>0</td>\n",
       "      <td>...</td>\n",
       "      <td>0</td>\n",
       "      <td>0</td>\n",
       "      <td>0</td>\n",
       "      <td>0</td>\n",
       "      <td>0</td>\n",
       "      <td>0</td>\n",
       "      <td>0</td>\n",
       "      <td>0</td>\n",
       "      <td>0</td>\n",
       "      <td>0</td>\n",
       "    </tr>\n",
       "  </tbody>\n",
       "</table>\n",
       "<p>5 rows × 2049 columns</p>\n",
       "</div>"
      ],
      "text/plain": [
       "      0     1     2     3     4     5     6     7     8     9     ...   2039  \\\n",
       "9995     0     0     0     1     0     0     0     0     0     0  ...      0   \n",
       "9996     0     0     0     1     0     0     0     0     0     0  ...      0   \n",
       "9997     0     0     0     1     0     0     0     0     0     0  ...      0   \n",
       "9998     0     0     0     1     0     0     0     0     0     0  ...      0   \n",
       "9999     0     0     0     1     0     0     0     0     0     0  ...      0   \n",
       "\n",
       "      2040  2041  2042  2043  2044  2045  2046  2047  2048  \n",
       "9995     0     0     0     0     0     0     0     0     0  \n",
       "9996     0     0     0     0     0     0     0     0     0  \n",
       "9997     0     0     0     0     0     0     0     0     0  \n",
       "9998     0     0     0     0     0     0     0     0     0  \n",
       "9999     0     0     0     0     0     0     0     0     0  \n",
       "\n",
       "[5 rows x 2049 columns]"
      ]
     },
     "execution_count": 25,
     "metadata": {},
     "output_type": "execute_result"
    }
   ],
   "source": [
    "x_train.tail()"
   ]
  },
  {
   "cell_type": "code",
   "execution_count": 26,
   "metadata": {
    "collapsed": false
   },
   "outputs": [
    {
     "data": {
      "text/plain": [
       "(2038140, 2)"
      ]
     },
     "execution_count": 26,
     "metadata": {},
     "output_type": "execute_result"
    }
   ],
   "source": [
    "y_train.shape"
   ]
  },
  {
   "cell_type": "code",
   "execution_count": 36,
   "metadata": {
    "collapsed": true
   },
   "outputs": [],
   "source": [
    "def get_val_data():\n",
    "    x_val_path = \"tmp/X_val/X_val_raw\"\n",
    "    y_val_path = \"tmp/y_val/y_val_raw\"\n",
    "    \n",
    "    x_val = pd.read_csv(x_val_path, dtype=np.uint8, sep=',', header=None, index_col=0)\n",
    "    y_val = pd.read_csv(y_val_path, dtype=np.uint8, sep=',', header=None, index_col=0)\n",
    "    return (x_val, y_val)"
   ]
  },
  {
   "cell_type": "code",
   "execution_count": 37,
   "metadata": {
    "collapsed": true
   },
   "outputs": [],
   "source": [
    "x_val, y_val = get_val_data()"
   ]
  },
  {
   "cell_type": "code",
   "execution_count": 38,
   "metadata": {
    "collapsed": false
   },
   "outputs": [
    {
     "name": "stdout",
     "output_type": "stream",
     "text": [
      "(226460, 2048) (226460, 1)\n"
     ]
    }
   ],
   "source": [
    "print(x_val.shape, y_val.shape)"
   ]
  },
  {
   "cell_type": "code",
   "execution_count": 21,
   "metadata": {
    "collapsed": true
   },
   "outputs": [],
   "source": [
    "x_train, y_train = x_val[:60000], y_val[:60000]\n",
    "x_test, y_test = x_val[60000:80000], y_val[60000:80000]"
   ]
  },
  {
   "cell_type": "code",
   "execution_count": 13,
   "metadata": {
    "collapsed": true
   },
   "outputs": [],
   "source": [
    "def get_test_data():\n",
    "    x_test_path = 'tmp/X_test/X_test_raw'\n",
    "    y_test_path = \"tmp/y_test/y_test_raw\"\n",
    "   \n",
    "    x_test = pd.read_csv(x_test_path, dtype=np.uint8, sep=',', header=None, index_col=0).reset_index() \n",
    "    y_test = pd.read_csv(y_test_path, dtype=np.uint8, sep=',', header=None, index_col=0).reset_index() \n",
    "    \n",
    "    return (x_test, y_test)"
   ]
  },
  {
   "cell_type": "code",
   "execution_count": 22,
   "metadata": {
    "collapsed": false,
    "scrolled": false
   },
   "outputs": [
    {
     "name": "stdout",
     "output_type": "stream",
     "text": [
      "x_train shape: (60000, 64, 32, 1)\n",
      "60000 train samples\n",
      "20000 test samples\n",
      "[ 0  1  2  3  4  5  6  7  8 10 11 12 13 14] [ 0  1  2  3  4  5  6  7 10 11 12 14]\n",
      "(60000, 15) (20000, 15)\n"
     ]
    }
   ],
   "source": [
    "# MNIST handwritten image classification\n",
    "# the data, shuffled and split between train and test sets\n",
    "\n",
    "# Reshape strategy according to backend\n",
    "if K.image_data_format() == 'channels_first':\n",
    "    x_train = x_train.values.reshape(x_train.shape[0], 1, img_rows, img_cols)\n",
    "    x_test = x_test.values.reshape(x_test.shape[0], 1, img_rows, img_cols)\n",
    "    # 1 x 28 x 28 [number_of_channels (colors) x height x weight]\n",
    "    input_shape = (1, img_rows, img_cols)\n",
    "else:\n",
    "    x_train = x_train.values.reshape(x_train.shape[0], img_rows, img_cols, 1)\n",
    "    x_test = x_test.values.reshape(x_test.shape[0], img_rows, img_cols, 1)\n",
    "    # 28 x 28 x 1 [height x weight x number_of_channels (colors)]\n",
    "    input_shape = (img_rows, img_cols, 1)\n",
    "    \n",
    "# Reshape, type, normalized, print\n",
    "x_train = x_train.astype('float32')\n",
    "x_test = x_test.astype('float32')\n",
    "# x_train /= 255\n",
    "# x_test /= 255\n",
    "\n",
    "# Dataset info\n",
    "print('x_train shape:', x_train.shape)\n",
    "print(x_train.shape[0], 'train samples')\n",
    "print(x_test.shape[0], 'test samples')\n",
    "print(np.unique(y_train), np.unique(y_test))\n",
    "\n",
    "# convert class vectors to binary class matrices\n",
    "y_train = keras.utils.to_categorical(y_train, num_classes)\n",
    "y_test = keras.utils.to_categorical(y_test, num_classes)\n",
    "\n",
    "print(y_train.shape, y_test.shape)"
   ]
  },
  {
   "cell_type": "code",
   "execution_count": 23,
   "metadata": {
    "collapsed": false
   },
   "outputs": [
    {
     "name": "stdout",
     "output_type": "stream",
     "text": [
      "(60000, 15)\n",
      "(20000, 15)\n"
     ]
    }
   ],
   "source": [
    "print(y_train.shape)\n",
    "print(y_test.shape)"
   ]
  },
  {
   "cell_type": "code",
   "execution_count": 26,
   "metadata": {
    "collapsed": true
   },
   "outputs": [],
   "source": [
    "def buildModel():\n",
    "    # MODEL\n",
    "    model = Sequential()\n",
    "    model.add(Conv2D(32, kernel_size=(3, 3), activation='relu', \n",
    "                     input_shape=input_shape))\n",
    "    model.add(Conv2D(64, (3, 3), activation='relu'))\n",
    "    \n",
    "    model.add(MaxPooling2D(pool_size=(2, 2)))\n",
    "    model.add(Dropout(0.25))\n",
    "    model.add(Conv2D(128, (3, 2), activation='relu'))\n",
    "   \n",
    "    model.add(Conv2D(256, (3, 2), activation='relu'))\n",
    "  \n",
    "    model.add(MaxPooling2D(pool_size=(2, 2)))\n",
    "    model.add(Flatten())\n",
    "    model.add(Dense(256, activation='relu'))\n",
    "   \n",
    "    model.add(Dropout(0.5))\n",
    "    model.add(Dense(num_classes, activation=Activation(tf.nn.softmax)))\n",
    "    # CEE, Adam\n",
    "    model.compile(loss=keras.losses.categorical_crossentropy,\n",
    "            optimizer=keras.optimizers.Adam(),\n",
    "            metrics=['accuracy'])\n",
    "    return model"
   ]
  },
  {
   "cell_type": "code",
   "execution_count": 27,
   "metadata": {
    "collapsed": false
   },
   "outputs": [
    {
     "name": "stdout",
     "output_type": "stream",
     "text": [
      "20191215_21_25_59\n"
     ]
    }
   ],
   "source": [
    "print(datetime.datetime.now().strftime('%Y%m%d_%H_%M_%S'))\n"
   ]
  },
  {
   "cell_type": "code",
   "execution_count": 28,
   "metadata": {
    "collapsed": false
   },
   "outputs": [],
   "source": [
    "def train(model, is_resume_weight = False, resume_weights_path=''):\n",
    "    # If exists a best model, load its weights!\n",
    "    if is_resume_weight:\n",
    "        if os.path.isfile(resume_weights_path):\n",
    "            print (\"Resumed model's weights from {}\".format(resume_weights))\n",
    "            # load weights\n",
    "            model.load_weights(resume_weights_path)\n",
    "            return \n",
    "\n",
    "\n",
    "    # Checkpoint In the /output folder\n",
    "    filepath = \"output/net-cnn-best.hdf5\"\n",
    "    os.makedirs('output', exist_ok=True)\n",
    "\n",
    "    # Keep only a single checkpoint, the best over test accuracy.\n",
    "    checkpoint = ModelCheckpoint(filepath, monitor='val_acc', verbose=1, save_best_only=True, save_weights_only=True, mode='max')\n",
    "    tensorboard_callback = keras.callbacks.TensorBoard(log_dir=\"logs\\{}\".format(str(datetime.datetime.now().strftime('%Y%m%d_%H_%M_%S'))), histogram_freq=1)\n",
    "\n",
    "    # Train\n",
    "    hist = model.fit(x_train, y_train,\n",
    "                batch_size=batch_size,\n",
    "                epochs=epochs,\n",
    "                verbose=1,\n",
    "                validation_data=(x_test, y_test), \n",
    "                callbacks=[tensorboard_callback, checkpoint])\n",
    "    print(hist.history.keys())\n",
    "    model.save_weights(filepath, overwrite=True)"
   ]
  },
  {
   "cell_type": "code",
   "execution_count": 29,
   "metadata": {
    "collapsed": false,
    "scrolled": false
   },
   "outputs": [
    {
     "name": "stdout",
     "output_type": "stream",
     "text": [
      "_________________________________________________________________\n",
      "Layer (type)                 Output Shape              Param #   \n",
      "=================================================================\n",
      "conv2d_1 (Conv2D)            (None, 62, 30, 32)        320       \n",
      "_________________________________________________________________\n",
      "conv2d_2 (Conv2D)            (None, 60, 28, 64)        18496     \n",
      "_________________________________________________________________\n",
      "max_pooling2d_1 (MaxPooling2 (None, 30, 14, 64)        0         \n",
      "_________________________________________________________________\n",
      "dropout_1 (Dropout)          (None, 30, 14, 64)        0         \n",
      "_________________________________________________________________\n",
      "conv2d_3 (Conv2D)            (None, 28, 13, 128)       49280     \n",
      "_________________________________________________________________\n",
      "conv2d_4 (Conv2D)            (None, 26, 12, 256)       196864    \n",
      "_________________________________________________________________\n",
      "max_pooling2d_2 (MaxPooling2 (None, 13, 6, 256)        0         \n",
      "_________________________________________________________________\n",
      "flatten_1 (Flatten)          (None, 19968)             0         \n",
      "_________________________________________________________________\n",
      "dense_1 (Dense)              (None, 256)               5112064   \n",
      "_________________________________________________________________\n",
      "dropout_2 (Dropout)          (None, 256)               0         \n",
      "_________________________________________________________________\n",
      "dense_2 (Dense)              (None, 15)                3855      \n",
      "=================================================================\n",
      "Total params: 5,380,879\n",
      "Trainable params: 5,380,879\n",
      "Non-trainable params: 0\n",
      "_________________________________________________________________\n"
     ]
    },
    {
     "name": "stderr",
     "output_type": "stream",
     "text": [
      "C:\\Users\\LDH\\Anaconda3\\lib\\site-packages\\keras\\activations.py:197: UserWarning: Do not pass a layer instance (such as Activation) as the activation argument of another layer. Instead, advanced activation layers should be used just like any other layer in a model.\n",
      "  identifier=identifier.__class__.__name__))\n"
     ]
    }
   ],
   "source": [
    "keras.backend.clear_session() # It is important if to create the model twice\n",
    "tf.summary.FileWriterCache.clear()\n",
    "\n",
    "model = buildModel()\n",
    "model.summary()\n"
   ]
  },
  {
   "cell_type": "code",
   "execution_count": 30,
   "metadata": {
    "collapsed": false,
    "scrolled": true
   },
   "outputs": [
    {
     "name": "stdout",
     "output_type": "stream",
     "text": [
      "[name: \"/cpu:0\"\n",
      "device_type: \"CPU\"\n",
      "memory_limit: 268435456\n",
      "locality {\n",
      "}\n",
      "incarnation: 6690163543262387021\n",
      ", name: \"/gpu:0\"\n",
      "device_type: \"GPU\"\n",
      "memory_limit: 9290641572\n",
      "locality {\n",
      "  bus_id: 1\n",
      "}\n",
      "incarnation: 9573063997996879670\n",
      "physical_device_desc: \"device: 0, name: GeForce GTX 1080 Ti, pci bus id: 0000:01:00.0\"\n",
      "]\n",
      "2.2.2\n"
     ]
    },
    {
     "data": {
      "text/plain": [
       "['/gpu:0']"
      ]
     },
     "execution_count": 30,
     "metadata": {},
     "output_type": "execute_result"
    }
   ],
   "source": [
    "from tensorflow.python.client import device_lib\n",
    "print(device_lib.list_local_devices())\n",
    "print(keras.__version__)\n",
    "K.tensorflow_backend._get_available_gpus()"
   ]
  },
  {
   "cell_type": "code",
   "execution_count": 31,
   "metadata": {
    "collapsed": false,
    "scrolled": true
   },
   "outputs": [
    {
     "name": "stdout",
     "output_type": "stream",
     "text": [
      "Train on 60000 samples, validate on 20000 samples\n",
      "Epoch 1/32\n",
      "60000/60000 [==============================] - 19s 314us/step - loss: 0.2161 - acc: 0.9335 - val_loss: 0.0991 - val_acc: 0.9651\n",
      "\n",
      "Epoch 00001: val_acc improved from -inf to 0.96515, saving model to output/net-cnn-best.hdf5\n",
      "Epoch 2/32\n",
      "60000/60000 [==============================] - 18s 294us/step - loss: 0.1021 - acc: 0.9633 - val_loss: 0.0825 - val_acc: 0.9684\n",
      "\n",
      "Epoch 00002: val_acc improved from 0.96515 to 0.96840, saving model to output/net-cnn-best.hdf5\n",
      "Epoch 3/32\n",
      "60000/60000 [==============================] - 18s 295us/step - loss: 0.0898 - acc: 0.9666 - val_loss: 0.0786 - val_acc: 0.9694\n",
      "\n",
      "Epoch 00003: val_acc improved from 0.96840 to 0.96940, saving model to output/net-cnn-best.hdf5\n",
      "Epoch 4/32\n",
      "60000/60000 [==============================] - 18s 294us/step - loss: 0.0850 - acc: 0.9675 - val_loss: 0.0745 - val_acc: 0.9686\n",
      "\n",
      "Epoch 00004: val_acc did not improve from 0.96940\n",
      "Epoch 5/32\n",
      "60000/60000 [==============================] - 17s 288us/step - loss: 0.0809 - acc: 0.9680 - val_loss: 0.0711 - val_acc: 0.9694\n",
      "\n",
      "Epoch 00005: val_acc did not improve from 0.96940\n",
      "Epoch 6/32\n",
      "60000/60000 [==============================] - 17s 287us/step - loss: 0.0760 - acc: 0.9701 - val_loss: 0.0690 - val_acc: 0.9698\n",
      "\n",
      "Epoch 00006: val_acc improved from 0.96940 to 0.96985, saving model to output/net-cnn-best.hdf5\n",
      "Epoch 7/32\n",
      "60000/60000 [==============================] - 18s 293us/step - loss: 0.0739 - acc: 0.9702 - val_loss: 0.0688 - val_acc: 0.9712\n",
      "\n",
      "Epoch 00007: val_acc improved from 0.96985 to 0.97120, saving model to output/net-cnn-best.hdf5\n",
      "Epoch 8/32\n",
      "60000/60000 [==============================] - 17s 287us/step - loss: 0.0717 - acc: 0.9711 - val_loss: 0.0677 - val_acc: 0.9716\n",
      "\n",
      "Epoch 00008: val_acc improved from 0.97120 to 0.97160, saving model to output/net-cnn-best.hdf5\n",
      "Epoch 9/32\n",
      "60000/60000 [==============================] - 17s 291us/step - loss: 0.0711 - acc: 0.9716 - val_loss: 0.0652 - val_acc: 0.9717\n",
      "\n",
      "Epoch 00009: val_acc improved from 0.97160 to 0.97170, saving model to output/net-cnn-best.hdf5\n",
      "Epoch 10/32\n",
      "60000/60000 [==============================] - 18s 293us/step - loss: 0.0696 - acc: 0.9717 - val_loss: 0.0669 - val_acc: 0.9708\n",
      "\n",
      "Epoch 00010: val_acc did not improve from 0.97170\n",
      "Epoch 11/32\n",
      "60000/60000 [==============================] - 18s 294us/step - loss: 0.0695 - acc: 0.9720 - val_loss: 0.0684 - val_acc: 0.9714\n",
      "\n",
      "Epoch 00011: val_acc did not improve from 0.97170\n",
      "Epoch 12/32\n",
      "60000/60000 [==============================] - 18s 293us/step - loss: 0.0688 - acc: 0.9722 - val_loss: 0.0654 - val_acc: 0.9719\n",
      "\n",
      "Epoch 00012: val_acc improved from 0.97170 to 0.97190, saving model to output/net-cnn-best.hdf5\n",
      "Epoch 13/32\n",
      "60000/60000 [==============================] - 18s 293us/step - loss: 0.0681 - acc: 0.9723 - val_loss: 0.0665 - val_acc: 0.9722\n",
      "\n",
      "Epoch 00013: val_acc improved from 0.97190 to 0.97220, saving model to output/net-cnn-best.hdf5\n",
      "Epoch 14/32\n",
      "60000/60000 [==============================] - 18s 294us/step - loss: 0.0675 - acc: 0.9723 - val_loss: 0.0645 - val_acc: 0.9722\n",
      "\n",
      "Epoch 00014: val_acc improved from 0.97220 to 0.97225, saving model to output/net-cnn-best.hdf5\n",
      "Epoch 15/32\n",
      "60000/60000 [==============================] - 18s 293us/step - loss: 0.0673 - acc: 0.9723 - val_loss: 0.0641 - val_acc: 0.9720\n",
      "\n",
      "Epoch 00015: val_acc did not improve from 0.97225\n",
      "Epoch 16/32\n",
      "60000/60000 [==============================] - 18s 293us/step - loss: 0.0673 - acc: 0.9725 - val_loss: 0.0662 - val_acc: 0.9719\n",
      "\n",
      "Epoch 00016: val_acc did not improve from 0.97225\n",
      "Epoch 17/32\n",
      "60000/60000 [==============================] - 17s 286us/step - loss: 0.0662 - acc: 0.9727 - val_loss: 0.0642 - val_acc: 0.9718\n",
      "\n",
      "Epoch 00017: val_acc did not improve from 0.97225\n",
      "Epoch 18/32\n",
      "60000/60000 [==============================] - 17s 286us/step - loss: 0.0661 - acc: 0.9729 - val_loss: 0.0644 - val_acc: 0.9724\n",
      "\n",
      "Epoch 00018: val_acc improved from 0.97225 to 0.97235, saving model to output/net-cnn-best.hdf5\n",
      "Epoch 19/32\n",
      "60000/60000 [==============================] - 18s 296us/step - loss: 0.0663 - acc: 0.9726 - val_loss: 0.0644 - val_acc: 0.9721\n",
      "\n",
      "Epoch 00019: val_acc did not improve from 0.97235\n",
      "Epoch 20/32\n",
      "60000/60000 [==============================] - 18s 295us/step - loss: 0.0660 - acc: 0.9729 - val_loss: 0.0659 - val_acc: 0.9710\n",
      "\n",
      "Epoch 00020: val_acc did not improve from 0.97235\n",
      "Epoch 21/32\n",
      "60000/60000 [==============================] - 17s 284us/step - loss: 0.0654 - acc: 0.9728 - val_loss: 0.0651 - val_acc: 0.9725\n",
      "\n",
      "Epoch 00021: val_acc improved from 0.97235 to 0.97250, saving model to output/net-cnn-best.hdf5\n",
      "Epoch 22/32\n",
      "60000/60000 [==============================] - 17s 284us/step - loss: 0.0656 - acc: 0.9726 - val_loss: 0.0642 - val_acc: 0.9722\n",
      "\n",
      "Epoch 00022: val_acc did not improve from 0.97250\n",
      "Epoch 23/32\n",
      "60000/60000 [==============================] - 18s 295us/step - loss: 0.0645 - acc: 0.9731 - val_loss: 0.0647 - val_acc: 0.9721\n",
      "\n",
      "Epoch 00023: val_acc did not improve from 0.97250\n",
      "Epoch 24/32\n",
      "60000/60000 [==============================] - 18s 294us/step - loss: 0.0646 - acc: 0.9729 - val_loss: 0.0653 - val_acc: 0.9722\n",
      "\n",
      "Epoch 00024: val_acc did not improve from 0.97250\n",
      "Epoch 25/32\n",
      "60000/60000 [==============================] - 18s 293us/step - loss: 0.0651 - acc: 0.9729 - val_loss: 0.0635 - val_acc: 0.9724\n",
      "\n",
      "Epoch 00025: val_acc did not improve from 0.97250\n",
      "Epoch 26/32\n",
      "60000/60000 [==============================] - 18s 294us/step - loss: 0.0646 - acc: 0.9731 - val_loss: 0.0640 - val_acc: 0.9724\n",
      "\n",
      "Epoch 00026: val_acc did not improve from 0.97250\n",
      "Epoch 27/32\n",
      "60000/60000 [==============================] - 18s 295us/step - loss: 0.0644 - acc: 0.9730 - val_loss: 0.0635 - val_acc: 0.9727\n",
      "\n",
      "Epoch 00027: val_acc improved from 0.97250 to 0.97265, saving model to output/net-cnn-best.hdf5\n",
      "Epoch 28/32\n",
      "60000/60000 [==============================] - 18s 294us/step - loss: 0.0637 - acc: 0.9731 - val_loss: 0.0642 - val_acc: 0.9728\n",
      "\n",
      "Epoch 00028: val_acc improved from 0.97265 to 0.97275, saving model to output/net-cnn-best.hdf5\n",
      "Epoch 29/32\n",
      "60000/60000 [==============================] - 17s 290us/step - loss: 0.0636 - acc: 0.9732 - val_loss: 0.0637 - val_acc: 0.9728\n",
      "\n",
      "Epoch 00029: val_acc improved from 0.97275 to 0.97280, saving model to output/net-cnn-best.hdf5\n",
      "Epoch 30/32\n",
      "60000/60000 [==============================] - 17s 285us/step - loss: 0.0637 - acc: 0.9731 - val_loss: 0.0643 - val_acc: 0.9724\n",
      "\n",
      "Epoch 00030: val_acc did not improve from 0.97280\n",
      "Epoch 31/32\n",
      "60000/60000 [==============================] - 17s 286us/step - loss: 0.0641 - acc: 0.9730 - val_loss: 0.0631 - val_acc: 0.9728\n",
      "\n",
      "Epoch 00031: val_acc did not improve from 0.97280\n",
      "Epoch 32/32\n",
      "60000/60000 [==============================] - 17s 285us/step - loss: 0.0645 - acc: 0.9733 - val_loss: 0.0636 - val_acc: 0.9728\n",
      "\n",
      "Epoch 00032: val_acc did not improve from 0.97280\n",
      "dict_keys(['val_loss', 'acc', 'loss', 'val_acc'])\n"
     ]
    }
   ],
   "source": [
    "train(model)"
   ]
  },
  {
   "cell_type": "code",
   "execution_count": 44,
   "metadata": {
    "collapsed": false
   },
   "outputs": [
    {
     "data": {
      "text/plain": [
       "(146460, 2048)"
      ]
     },
     "execution_count": 44,
     "metadata": {},
     "output_type": "execute_result"
    }
   ],
   "source": [
    "x_val[80000:].shape"
   ]
  },
  {
   "cell_type": "code",
   "execution_count": 46,
   "metadata": {
    "collapsed": false
   },
   "outputs": [],
   "source": [
    "x_eval = np.reshape(x_val.values[80000:], (146460, 64, 32, 1))\n",
    "\n",
    "# convert class vectors to binary class matrices\n",
    "y_eval = keras.utils.to_categorical(y_val[80000:], num_classes)"
   ]
  },
  {
   "cell_type": "code",
   "execution_count": 47,
   "metadata": {
    "collapsed": false
   },
   "outputs": [
    {
     "name": "stdout",
     "output_type": "stream",
     "text": [
      "146460/146460 [==============================] - 20s 140us/step\n",
      "Test loss: 0.0649811231706647\n",
      "Test accuracy: 0.9739792434794483\n"
     ]
    }
   ],
   "source": [
    "# Eval\n",
    "score = model.evaluate(x_eval, y_eval, verbose=1)\n",
    "print('Test loss:', score[0])\n",
    "print('Test accuracy:', score[1])"
   ]
  },
  {
   "cell_type": "code",
   "execution_count": 33,
   "metadata": {
    "collapsed": false
   },
   "outputs": [
    {
     "name": "stderr",
     "output_type": "stream",
     "text": [
      "C:\\Users\\LDH\\Anaconda3\\lib\\site-packages\\keras\\activations.py:197: UserWarning: Do not pass a layer instance (such as Activation) as the activation argument of another layer. Instead, advanced activation layers should be used just like any other layer in a model.\n",
      "  identifier=identifier.__class__.__name__))\n"
     ]
    },
    {
     "name": "stdout",
     "output_type": "stream",
     "text": [
      "Resumed model's weights from model/net-cnn-best.hdf5\n",
      "20000/20000 [==============================] - 3s 136us/step\n",
      "Test loss: 0.06358545612062007\n",
      "Test accuracy: 0.9728\n"
     ]
    }
   ],
   "source": [
    "# test to load weights\n",
    "model1 = buildModel()\n",
    "train(model1, True, 'output/net-cnn-best.hdf5')\n",
    "# Eval\n",
    "score = model1.evaluate(x_test, y_test, verbose=1)\n",
    "print('Test loss:', score[0])\n",
    "print('Test accuracy:', score[1])"
   ]
  },
  {
   "cell_type": "code",
   "execution_count": 1,
   "metadata": {
    "collapsed": true
   },
   "outputs": [],
   "source": [
    "\n",
    "val_losses = [0.0991, 0.0825, 0.0786, 0.0745, 0.0711, 0.0690, 0.0688, 0.0677, 0.0652, 0.0669,0.0684 ,\n",
    "              0.0654 ,0.0665, 0.0645, 0.0641,  0.0662, 0.0642, 0.0644, 0.0644, 0.0659, 0.0651, 0.0642, \n",
    "              0.0647, 0.0653, 0.0635, 0.0640, 0.0635, 0.0642 , 0.0637, 0.0643 , 0.0631, 0.0636,  ]\n",
    "\n",
    "val_accs = [0.9651 ,0.9684,0.9694,0.9686,0.9694,0.9698,0.9712,0.9716,\n",
    "0.9717,0.9708,0.9714,0.9719,0.9722,0.9722,0.9720,0.9719,0.9718,0.9724,\n",
    "0.9721,0.9710,0.9725,0.9722,0.9721,0.9722,0.9724,0.9724,0.9727,0.9728,\n",
    "0.9728,0.9724,0.9728,0.9728]\n",
    "\n",
    "train_losses = [0.2161 , 0.1021, 0.0898, 0.0850, 0.0809, 0.0760, 0.0739, 0.0717,\n",
    " 0.0711, 0.0696, 0.0695, 0.0688, 0.0681, 0.0675, 0.0673, 0.0673, 0.0662,\n",
    " 0.0661, 0.0663, 0.0660, 0.0654, 0.0656, 0.0645, 0.0646, 0.0651, 0.0646, 0.0644,\n",
    " 0.0637, 0.0636, 0.0637, 0.0641, 0.0645,]\n",
    "\n",
    "training_accs = [0.9335 , 0.9633, 0.9666, 0.9675,\n",
    " 0.9680,0.9701,0.9702,0.9711,0.9716,0.9717, 0.9720, 0.9722, 0.9723, 0.9723, 0.9723, 0.9725,\n",
    " 0.9727, 0.9729, 0.9726, 0.9729, 0.9728, 0.9726, 0.9731, 0.9729, 0.9729, 0.9731, 0.9730, 0.9731, 0.9732,\n",
    " 0.9731, 0.9730, 0.9733\n",
    "]"
   ]
  },
  {
   "cell_type": "code",
   "execution_count": 2,
   "metadata": {
    "collapsed": true
   },
   "outputs": [],
   "source": [
    "import matplotlib.pyplot as plt"
   ]
  },
  {
   "cell_type": "code",
   "execution_count": 3,
   "metadata": {
    "collapsed": false
   },
   "outputs": [
    {
     "data": {
      "image/png": "[encoded data removed]",
      "text/plain": [
       "<matplotlib.figure.Figure at 0x19358304128>"
      ]
     },
     "metadata": {},
     "output_type": "display_data"
    }
   ],
   "source": [
    "\n",
    "plt.title('losses')\n",
    "steps = [i for i in range(32)]\n",
    "plt.plot(steps, val_losses, color='blue', label='validation loss')\n",
    "plt.plot(steps, train_losses,  color='red', label='training loss')\n",
    "plt.legend() # 显示图例\n",
    "\n",
    "plt.xlabel('iteration times')\n",
    "plt.ylabel('loss value')\n",
    "plt.show()\n"
   ]
  },
  {
   "cell_type": "code",
   "execution_count": 4,
   "metadata": {
    "collapsed": false
   },
   "outputs": [
    {
     "data": {
      "image/png": "[encoded data removed]",
      "text/plain": [
       "<matplotlib.figure.Figure at 0x19358647f98>"
      ]
     },
     "metadata": {},
     "output_type": "display_data"
    }
   ],
   "source": [
    "plt.title('Accuracy')\n",
    "steps = [i for i in range(32)]\n",
    "plt.plot(steps, val_accs, color='blue', label='validation accuracy')\n",
    "plt.plot(steps, training_accs, color='red', label='train accuracy')\n",
    "plt.legend() # 显示图例\n",
    "\n",
    "plt.xlabel('iteration times')\n",
    "plt.ylabel('accuracy')\n",
    "plt.show()"
   ]
  },
  {
   "cell_type": "code",
   "execution_count": null,
   "metadata": {
    "collapsed": true
   },
   "outputs": [],
   "source": []
  }
 ],
 "metadata": {
  "anaconda-cloud": {},
  "kernelspec": {
   "display_name": "Python [conda root]",
   "language": "python",
   "name": "conda-root-py"
  },
  "language_info": {
   "codemirror_mode": {
    "name": "ipython",
    "version": 3
   },
   "file_extension": ".py",
   "mimetype": "text/x-python",
   "name": "python",
   "nbconvert_exporter": "python",
   "pygments_lexer": "ipython3",
   "version": "3.5.2"
  }
 },
 "nbformat": 4,
 "nbformat_minor": 2
}
