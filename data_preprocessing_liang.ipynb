{
 "cells": [
  {
   "cell_type": "markdown",
   "metadata": {
    "pycharm": {
     "name": "#%% md\n"
    }
   },
   "source": [
    "### Made by Liang Yihuai"
   ]
  },
  {
   "cell_type": "markdown",
   "metadata": {
    "pycharm": {
     "name": "#%% md\n"
    }
   },
   "source": [
    "This notebook is to preprocess data set, one-hot encoding and extension, and finally save to hard disk."
   ]
  },
  {
   "cell_type": "code",
   "execution_count": 3,
   "metadata": {
    "pycharm": {
     "is_executing": false
    }
   },
   "outputs": [
    {
     "name": "stdout",
     "text": [
      "The autoreload extension is already loaded. To reload it, use:\n",
      "  %reload_ext autoreload\n"
     ],
     "output_type": "stream"
    }
   ],
   "source": [
    "#imports\n",
    "import os\n",
    "from os.path import join\n",
    "import glob\n",
    "import pandas as pd\n",
    "import numpy as np\n",
    "%load_ext autoreload\n",
    "%autoreload 2"
   ]
  },
  {
   "cell_type": "code",
   "execution_count": 4,
   "metadata": {
    "pycharm": {
     "is_executing": false
    }
   },
   "outputs": [],
   "source": [
    "# load data\n",
    "dataroot = 'dataset/MachineLearningCVE/'"
   ]
  },
  {
   "cell_type": "code",
   "execution_count": 5,
   "metadata": {
    "pycharm": {
     "is_executing": false
    }
   },
   "outputs": [],
   "source": [
    "def read_data(dataroot,file_ending):\n",
    "    if file_ending==None:\n",
    "        print(\"please specify file ending pattern for glob\")\n",
    "        exit()\n",
    "    print(join(dataroot,file_ending))\n",
    "    filenames = [i for i in glob.glob(join(dataroot,file_ending))]\n",
    "    combined_csv = pd.concat([pd.read_csv(f, low_memory=False) for f in filenames],sort=False)\n",
    "    return combined_csv"
   ]
  },
  {
   "cell_type": "code",
   "execution_count": 6,
   "metadata": {
    "pycharm": {
     "is_executing": false
    }
   },
   "outputs": [],
   "source": [
    "def display_all(df):\n",
    "    with pd.option_context(\"display.max_rows\", 1000, \"display.max_columns\", 1000): \n",
    "        display(df)"
   ]
  },
  {
   "cell_type": "code",
   "execution_count": 7,
   "metadata": {
    "pycharm": {
     "is_executing": false
    }
   },
   "outputs": [
    {
     "name": "stdout",
     "text": [
      "dataset/MachineLearningCVE/*.pcap_ISCX.csv\n"
     ],
     "output_type": "stream"
    }
   ],
   "source": [
    "data = read_data(dataroot,'*.pcap_ISCX.csv')"
   ]
  },
  {
   "cell_type": "code",
   "execution_count": 8,
   "metadata": {
    "pycharm": {
     "is_executing": false
    }
   },
   "outputs": [
    {
     "name": "stdout",
     "text": [
      "2830743 flow records read which has 79 feature dimension\n"
     ],
     "output_type": "stream"
    }
   ],
   "source": [
    "num_records,num_features = data.shape\n",
    "print(\"{} flow records read which has {} feature dimension\".format(num_records,num_features))"
   ]
  },
  {
   "cell_type": "code",
   "execution_count": 9,
   "metadata": {
    "pycharm": {
     "is_executing": false
    }
   },
   "outputs": [],
   "source": [
    "# there is white spaces in columns names e.g. ' Destination Port'\n",
    "# So strip the whitespace from  column names\n",
    "data = data.rename(columns=lambda x: x.strip())\n",
    "df_label = data['Label']\n",
    "data = data.drop(columns=['Flow Packets/s','Flow Bytes/s', 'Fwd Avg Bytes/Bulk',\n",
    "                          'Fwd Avg Packets/Bulk','Fwd Avg Bulk Rate',\n",
    "                          'Bwd Avg Bytes/Bulk','Bwd Avg Packets/Bulk','Bwd Avg Bulk Rate', 'CWE Flag Count',\n",
    "                         'Fwd URG Flags','RST Flag Count','ECE Flag Count',\n",
    "                          'Bwd URG Flags','Bwd PSH Flags','Label'])\n",
    "data.fillna(data.mean(), inplace=True)"
   ]
  },
  {
   "cell_type": "code",
   "execution_count": 10,
   "metadata": {
    "pycharm": {
     "is_executing": false
    },
    "scrolled": true
   },
   "outputs": [
    {
     "name": "stdout",
     "text": [
      "Destination Port , min= 0 , max= 65535\n",
      "Flow Duration , min= -13 , max= 119999998\n",
      "Total Fwd Packets , min= 1 , max= 219759\n",
      "Total Backward Packets , min= 0 , max= 291922\n",
      "Total Length of Fwd Packets , min= 0 , max= 12900000\n",
      "Total Length of Bwd Packets , min= 0 , max= 655453030\n",
      "Fwd Packet Length Max , min= 0 , max= 24820\n",
      "Fwd Packet Length Min , min= 0 , max= 2325\n",
      "Fwd Packet Length Mean , min= 0.0 , max= 5940.857143\n",
      "Fwd Packet Length Std , min= 0.0 , max= 7125.5968458437\n",
      "Bwd Packet Length Max , min= 0 , max= 19530\n",
      "Bwd Packet Length Min , min= 0 , max= 2896\n",
      "Bwd Packet Length Mean , min= 0.0 , max= 5800.5\n",
      "Bwd Packet Length Std , min= 0.0 , max= 8194.660487000001\n",
      "Flow IAT Mean , min= -13.0 , max= 120000000.0\n",
      "Flow IAT Std , min= 0.0 , max= 84800261.5664079\n",
      "Flow IAT Max , min= -13 , max= 120000000\n",
      "Flow IAT Min , min= -14 , max= 120000000\n",
      "Fwd IAT Total , min= 0 , max= 120000000\n",
      "Fwd IAT Mean , min= 0.0 , max= 120000000.0\n",
      "Fwd IAT Std , min= 0.0 , max= 84602929.2769822\n",
      "Fwd IAT Max , min= 0 , max= 120000000\n",
      "Fwd IAT Min , min= -12 , max= 120000000\n",
      "Bwd IAT Total , min= 0 , max= 120000000\n",
      "Bwd IAT Mean , min= 0.0 , max= 120000000.0\n",
      "Bwd IAT Std , min= 0.0 , max= 84418013.7826341\n",
      "Bwd IAT Max , min= 0 , max= 120000000\n",
      "Bwd IAT Min , min= 0 , max= 120000000\n",
      "Fwd PSH Flags , min= 0 , max= 1\n",
      "Fwd Header Length , min= -32212234632 , max= 4644908\n",
      "Bwd Header Length , min= -1073741320 , max= 5838440\n",
      "Fwd Packets/s , min= 0.0 , max= 3000000.0\n",
      "Bwd Packets/s , min= 0.0 , max= 2000000.0\n",
      "Min Packet Length , min= 0 , max= 1448\n",
      "Max Packet Length , min= 0 , max= 24820\n",
      "Packet Length Mean , min= 0.0 , max= 3337.142857\n",
      "Packet Length Std , min= 0.0 , max= 4731.522394\n",
      "Packet Length Variance , min= 0.0 , max= 22400000.0\n",
      "FIN Flag Count , min= 0 , max= 1\n",
      "SYN Flag Count , min= 0 , max= 1\n",
      "PSH Flag Count , min= 0 , max= 1\n",
      "ACK Flag Count , min= 0 , max= 1\n",
      "URG Flag Count , min= 0 , max= 1\n",
      "Down/Up Ratio , min= 0 , max= 156\n",
      "Average Packet Size , min= 0.0 , max= 3893.333333\n",
      "Avg Fwd Segment Size , min= 0.0 , max= 5940.857143\n",
      "Avg Bwd Segment Size , min= 0.0 , max= 5800.5\n",
      "Fwd Header Length.1 , min= -32212234632 , max= 4644908\n",
      "Subflow Fwd Packets , min= 1 , max= 219759\n",
      "Subflow Fwd Bytes , min= 0 , max= 12870338\n",
      "Subflow Bwd Packets , min= 0 , max= 291922\n",
      "Subflow Bwd Bytes , min= 0 , max= 655453030\n",
      "Init_Win_bytes_forward , min= -1 , max= 65535\n",
      "Init_Win_bytes_backward , min= -1 , max= 65535\n",
      "act_data_pkt_fwd , min= 0 , max= 213557\n",
      "min_seg_size_forward , min= -536870661 , max= 138\n",
      "Active Mean , min= 0.0 , max= 110000000.0\n",
      "Active Std , min= 0.0 , max= 74200000.0\n",
      "Active Max , min= 0 , max= 110000000\n",
      "Active Min , min= 0 , max= 110000000\n",
      "Idle Mean , min= 0.0 , max= 120000000.0\n",
      "Idle Std , min= 0.0 , max= 76900000.0\n",
      "Idle Max , min= 0 , max= 120000000\n",
      "Idle Min , min= 0 , max= 120000000\n"
     ],
     "output_type": "stream"
    }
   ],
   "source": [
    "for i in  data.columns.tolist():\n",
    "    print(i, ', min=', min(data[i]), ', max=', max(data[i]))"
   ]
  },
  {
   "cell_type": "code",
   "execution_count": 11,
   "metadata": {
    "pycharm": {
     "is_executing": false
    }
   },
   "outputs": [
    {
     "data": {
      "text/plain": "                                 count          mean           std  \\\nDestination Port             2830743.0  8.071483e+03  1.828363e+04   \nFlow Duration                2830743.0  1.478566e+07  3.365374e+07   \nTotal Fwd Packets            2830743.0  9.361160e+00  7.496728e+02   \nTotal Backward Packets       2830743.0  1.039377e+01  9.973883e+02   \nTotal Length of Fwd Packets  2830743.0  5.493024e+02  9.993589e+03   \nTotal Length of Bwd Packets  2830743.0  1.616264e+04  2.263088e+06   \nFwd Packet Length Max        2830743.0  2.075999e+02  7.171848e+02   \nFwd Packet Length Min        2830743.0  1.871366e+01  6.033935e+01   \nFwd Packet Length Mean       2830743.0  5.820194e+01  1.860912e+02   \nFwd Packet Length Std        2830743.0  6.891013e+01  2.811871e+02   \nBwd Packet Length Max        2830743.0  8.708495e+02  1.946367e+03   \nBwd Packet Length Min        2830743.0  4.104958e+01  6.886260e+01   \nBwd Packet Length Mean       2830743.0  3.059493e+02  6.052568e+02   \nBwd Packet Length Std        2830743.0  3.353257e+02  8.396932e+02   \nFlow IAT Mean                2830743.0  1.298449e+06  4.507944e+06   \nFlow IAT Std                 2830743.0  2.919271e+06  8.045870e+06   \nFlow IAT Max                 2830743.0  9.182475e+06  2.445954e+07   \nFlow IAT Min                 2830743.0  1.623796e+05  2.950282e+06   \nFwd IAT Total                2830743.0  1.448296e+07  3.357581e+07   \nFwd IAT Mean                 2830743.0  2.610193e+06  9.525722e+06   \nFwd IAT Std                  2830743.0  3.266957e+06  9.639055e+06   \nFwd IAT Max                  2830743.0  9.042939e+06  2.452916e+07   \nFwd IAT Min                  2830743.0  1.021893e+06  8.591436e+06   \nBwd IAT Total                2830743.0  9.893830e+06  2.873661e+07   \nBwd IAT Mean                 2830743.0  1.805784e+06  8.887197e+06   \nBwd IAT Std                  2830743.0  1.485973e+06  6.278469e+06   \nBwd IAT Max                  2830743.0  4.684692e+06  1.716095e+07   \nBwd IAT Min                  2830743.0  9.672614e+05  8.308983e+06   \nFwd PSH Flags                2830743.0  4.644646e-02  2.104500e-01   \nFwd Header Length            2830743.0 -2.599739e+04  2.105286e+07   \nBwd Header Length            2830743.0 -2.273275e+03  1.452209e+06   \nFwd Packets/s                2830743.0  6.386535e+04  2.475371e+05   \nBwd Packets/s                2830743.0  6.995192e+03  3.815170e+04   \nMin Packet Length            2830743.0  1.643450e+01  2.523772e+01   \nMax Packet Length            2830743.0  9.504024e+02  2.028229e+03   \nPacket Length Mean           2830743.0  1.719444e+02  3.054915e+02   \nPacket Length Std            2830743.0  2.949756e+02  6.318001e+02   \nPacket Length Variance       2830743.0  4.861548e+05  1.647490e+06   \nFIN Flag Count               2830743.0  3.537976e-02  1.847378e-01   \nSYN Flag Count               2830743.0  4.644646e-02  2.104500e-01   \nPSH Flag Count               2830743.0  2.980705e-01  4.574107e-01   \nACK Flag Count               2830743.0  3.158443e-01  4.648513e-01   \nURG Flag Count               2830743.0  9.482316e-02  2.929706e-01   \nDown/Up Ratio                2830743.0  6.835004e-01  6.804920e-01   \nAverage Packet Size          2830743.0  1.919837e+02  3.318603e+02   \nAvg Fwd Segment Size         2830743.0  5.820194e+01  1.860912e+02   \nAvg Bwd Segment Size         2830743.0  3.059493e+02  6.052568e+02   \nFwd Header Length.1          2830743.0 -2.599739e+04  2.105286e+07   \nSubflow Fwd Packets          2830743.0  9.361160e+00  7.496728e+02   \nSubflow Fwd Bytes            2830743.0  5.492919e+02  9.980070e+03   \nSubflow Bwd Packets          2830743.0  1.039377e+01  9.973883e+02   \nSubflow Bwd Bytes            2830743.0  1.616230e+04  2.263057e+06   \nInit_Win_bytes_forward       2830743.0  6.989837e+03  1.433873e+04   \nInit_Win_bytes_backward      2830743.0  1.989433e+03  8.456883e+03   \nact_data_pkt_fwd             2830743.0  5.418218e+00  6.364257e+02   \nmin_seg_size_forward         2830743.0 -2.741688e+03  1.084989e+06   \nActive Mean                  2830743.0  8.155132e+04  6.485999e+05   \nActive Std                   2830743.0  4.113412e+04  3.933815e+05   \nActive Max                   2830743.0  1.531825e+05  1.025825e+06   \nActive Min                   2830743.0  5.829582e+04  5.770923e+05   \nIdle Mean                    2830743.0  8.316037e+06  2.363008e+07   \nIdle Std                     2830743.0  5.038439e+05  4.602984e+06   \nIdle Max                     2830743.0  8.695752e+06  2.436689e+07   \nIdle Min                     2830743.0  7.920031e+06  2.336342e+07   \n\n                                      min         25%           50%  \\\nDestination Port             0.000000e+00   53.000000     80.000000   \nFlow Duration               -1.300000e+01  155.000000  31316.000000   \nTotal Fwd Packets            1.000000e+00    2.000000      2.000000   \nTotal Backward Packets       0.000000e+00    1.000000      2.000000   \nTotal Length of Fwd Packets  0.000000e+00   12.000000     62.000000   \nTotal Length of Bwd Packets  0.000000e+00    0.000000    123.000000   \nFwd Packet Length Max        0.000000e+00    6.000000     37.000000   \nFwd Packet Length Min        0.000000e+00    0.000000      2.000000   \nFwd Packet Length Mean       0.000000e+00    6.000000     34.000000   \nFwd Packet Length Std        0.000000e+00    0.000000      0.000000   \nBwd Packet Length Max        0.000000e+00    0.000000     79.000000   \nBwd Packet Length Min        0.000000e+00    0.000000      0.000000   \nBwd Packet Length Mean       0.000000e+00    0.000000     72.000000   \nBwd Packet Length Std        0.000000e+00    0.000000      0.000000   \nFlow IAT Mean               -1.300000e+01   63.666667  11438.842110   \nFlow IAT Std                 0.000000e+00    0.000000    137.178716   \nFlow IAT Max                -1.300000e+01  123.000000  30865.000000   \nFlow IAT Min                -1.400000e+01    3.000000      4.000000   \nFwd IAT Total                0.000000e+00    0.000000     43.000000   \nFwd IAT Mean                 0.000000e+00    0.000000     26.000000   \nFwd IAT Std                  0.000000e+00    0.000000      0.000000   \nFwd IAT Max                  0.000000e+00    0.000000     43.000000   \nFwd IAT Min                 -1.200000e+01    0.000000      3.000000   \nBwd IAT Total                0.000000e+00    0.000000      3.000000   \nBwd IAT Mean                 0.000000e+00    0.000000      3.000000   \nBwd IAT Std                  0.000000e+00    0.000000      0.000000   \nBwd IAT Max                  0.000000e+00    0.000000      3.000000   \nBwd IAT Min                  0.000000e+00    0.000000      1.000000   \nFwd PSH Flags                0.000000e+00    0.000000      0.000000   \nFwd Header Length           -3.221223e+10   40.000000     64.000000   \nBwd Header Length           -1.073741e+09   20.000000     40.000000   \nFwd Packets/s                0.000000e+00    1.749446     61.325238   \nBwd Packets/s                0.000000e+00    0.122920     19.827894   \nMin Packet Length            0.000000e+00    0.000000      2.000000   \nMax Packet Length            0.000000e+00    6.000000     87.000000   \nPacket Length Mean           0.000000e+00    6.000000     57.200000   \nPacket Length Std            0.000000e+00    0.000000     25.980762   \nPacket Length Variance       0.000000e+00    0.000000    675.000000   \nFIN Flag Count               0.000000e+00    0.000000      0.000000   \nSYN Flag Count               0.000000e+00    0.000000      0.000000   \nPSH Flag Count               0.000000e+00    0.000000      0.000000   \nACK Flag Count               0.000000e+00    0.000000      0.000000   \nURG Flag Count               0.000000e+00    0.000000      0.000000   \nDown/Up Ratio                0.000000e+00    0.000000      1.000000   \nAverage Packet Size          0.000000e+00    7.500000     72.250000   \nAvg Fwd Segment Size         0.000000e+00    6.000000     34.000000   \nAvg Bwd Segment Size         0.000000e+00    0.000000     72.000000   \nFwd Header Length.1         -3.221223e+10   40.000000     64.000000   \nSubflow Fwd Packets          1.000000e+00    2.000000      2.000000   \nSubflow Fwd Bytes            0.000000e+00   12.000000     62.000000   \nSubflow Bwd Packets          0.000000e+00    1.000000      2.000000   \nSubflow Bwd Bytes            0.000000e+00    0.000000    123.000000   \nInit_Win_bytes_forward      -1.000000e+00   -1.000000    251.000000   \nInit_Win_bytes_backward     -1.000000e+00   -1.000000     -1.000000   \nact_data_pkt_fwd             0.000000e+00    0.000000      1.000000   \nmin_seg_size_forward        -5.368707e+08   20.000000     24.000000   \nActive Mean                  0.000000e+00    0.000000      0.000000   \nActive Std                   0.000000e+00    0.000000      0.000000   \nActive Max                   0.000000e+00    0.000000      0.000000   \nActive Min                   0.000000e+00    0.000000      0.000000   \nIdle Mean                    0.000000e+00    0.000000      0.000000   \nIdle Std                     0.000000e+00    0.000000      0.000000   \nIdle Max                     0.000000e+00    0.000000      0.000000   \nIdle Min                     0.000000e+00    0.000000      0.000000   \n\n                                      75%           max  \nDestination Port             4.430000e+02  6.553500e+04  \nFlow Duration                3.204828e+06  1.200000e+08  \nTotal Fwd Packets            5.000000e+00  2.197590e+05  \nTotal Backward Packets       4.000000e+00  2.919220e+05  \nTotal Length of Fwd Packets  1.870000e+02  1.290000e+07  \nTotal Length of Bwd Packets  4.820000e+02  6.554530e+08  \nFwd Packet Length Max        8.100000e+01  2.482000e+04  \nFwd Packet Length Min        3.600000e+01  2.325000e+03  \nFwd Packet Length Mean       5.000000e+01  5.940857e+03  \nFwd Packet Length Std        2.616295e+01  7.125597e+03  \nBwd Packet Length Max        2.800000e+02  1.953000e+04  \nBwd Packet Length Min        7.700000e+01  2.896000e+03  \nBwd Packet Length Mean       1.810000e+02  5.800500e+03  \nBwd Packet Length Std        7.794054e+01  8.194660e+03  \nFlow IAT Mean                3.374266e+05  1.200000e+08  \nFlow IAT Std                 6.912663e+05  8.480026e+07  \nFlow IAT Max                 2.440145e+06  1.200000e+08  \nFlow IAT Min                 6.400000e+01  1.200000e+08  \nFwd IAT Total                1.242844e+06  1.200000e+08  \nFwd IAT Mean                 2.063064e+05  1.200000e+08  \nFwd IAT Std                  6.598982e+04  8.460293e+07  \nFwd IAT Max                  9.310060e+05  1.200000e+08  \nFwd IAT Min                  4.800000e+01  1.200000e+08  \nBwd IAT Total                9.858050e+04  1.200000e+08  \nBwd IAT Mean                 1.824857e+04  1.200000e+08  \nBwd IAT Std                  1.572409e+04  8.441801e+07  \nBwd IAT Max                  6.021000e+04  1.200000e+08  \nBwd IAT Min                  4.500000e+01  1.200000e+08  \nFwd PSH Flags                0.000000e+00  1.000000e+00  \nFwd Header Length            1.200000e+02  4.644908e+06  \nBwd Header Length            1.040000e+02  5.838440e+06  \nFwd Packets/s                1.204819e+04  3.000000e+06  \nBwd Packets/s                7.352941e+03  2.000000e+06  \nMin Packet Length            3.600000e+01  1.448000e+03  \nMax Packet Length            5.250000e+02  2.482000e+04  \nPacket Length Mean           1.198000e+02  3.337143e+03  \nPacket Length Std            1.743239e+02  4.731522e+03  \nPacket Length Variance       3.038884e+04  2.240000e+07  \nFIN Flag Count               0.000000e+00  1.000000e+00  \nSYN Flag Count               0.000000e+00  1.000000e+00  \nPSH Flag Count               1.000000e+00  1.000000e+00  \nACK Flag Count               1.000000e+00  1.000000e+00  \nURG Flag Count               0.000000e+00  1.000000e+00  \nDown/Up Ratio                1.000000e+00  1.560000e+02  \nAverage Packet Size          1.492639e+02  3.893333e+03  \nAvg Fwd Segment Size         5.000000e+01  5.940857e+03  \nAvg Bwd Segment Size         1.810000e+02  5.800500e+03  \nFwd Header Length.1          1.200000e+02  4.644908e+06  \nSubflow Fwd Packets          5.000000e+00  2.197590e+05  \nSubflow Fwd Bytes            1.870000e+02  1.287034e+07  \nSubflow Bwd Packets          4.000000e+00  2.919220e+05  \nSubflow Bwd Bytes            4.820000e+02  6.554530e+08  \nInit_Win_bytes_forward       8.192000e+03  6.553500e+04  \nInit_Win_bytes_backward      2.350000e+02  6.553500e+04  \nact_data_pkt_fwd             2.000000e+00  2.135570e+05  \nmin_seg_size_forward         3.200000e+01  1.380000e+02  \nActive Mean                  0.000000e+00  1.100000e+08  \nActive Std                   0.000000e+00  7.420000e+07  \nActive Max                   0.000000e+00  1.100000e+08  \nActive Min                   0.000000e+00  1.100000e+08  \nIdle Mean                    0.000000e+00  1.200000e+08  \nIdle Std                     0.000000e+00  7.690000e+07  \nIdle Max                     0.000000e+00  1.200000e+08  \nIdle Min                     0.000000e+00  1.200000e+08  ",
      "text/html": "<div>\n<style scoped>\n    .dataframe tbody tr th:only-of-type {\n        vertical-align: middle;\n    }\n\n    .dataframe tbody tr th {\n        vertical-align: top;\n    }\n\n    .dataframe thead th {\n        text-align: right;\n    }\n</style>\n<table border=\"1\" class=\"dataframe\">\n  <thead>\n    <tr style=\"text-align: right;\">\n      <th></th>\n      <th>count</th>\n      <th>mean</th>\n      <th>std</th>\n      <th>min</th>\n      <th>25%</th>\n      <th>50%</th>\n      <th>75%</th>\n      <th>max</th>\n    </tr>\n  </thead>\n  <tbody>\n    <tr>\n      <th>Destination Port</th>\n      <td>2830743.0</td>\n      <td>8.071483e+03</td>\n      <td>1.828363e+04</td>\n      <td>0.000000e+00</td>\n      <td>53.000000</td>\n      <td>80.000000</td>\n      <td>4.430000e+02</td>\n      <td>6.553500e+04</td>\n    </tr>\n    <tr>\n      <th>Flow Duration</th>\n      <td>2830743.0</td>\n      <td>1.478566e+07</td>\n      <td>3.365374e+07</td>\n      <td>-1.300000e+01</td>\n      <td>155.000000</td>\n      <td>31316.000000</td>\n      <td>3.204828e+06</td>\n      <td>1.200000e+08</td>\n    </tr>\n    <tr>\n      <th>Total Fwd Packets</th>\n      <td>2830743.0</td>\n      <td>9.361160e+00</td>\n      <td>7.496728e+02</td>\n      <td>1.000000e+00</td>\n      <td>2.000000</td>\n      <td>2.000000</td>\n      <td>5.000000e+00</td>\n      <td>2.197590e+05</td>\n    </tr>\n    <tr>\n      <th>Total Backward Packets</th>\n      <td>2830743.0</td>\n      <td>1.039377e+01</td>\n      <td>9.973883e+02</td>\n      <td>0.000000e+00</td>\n      <td>1.000000</td>\n      <td>2.000000</td>\n      <td>4.000000e+00</td>\n      <td>2.919220e+05</td>\n    </tr>\n    <tr>\n      <th>Total Length of Fwd Packets</th>\n      <td>2830743.0</td>\n      <td>5.493024e+02</td>\n      <td>9.993589e+03</td>\n      <td>0.000000e+00</td>\n      <td>12.000000</td>\n      <td>62.000000</td>\n      <td>1.870000e+02</td>\n      <td>1.290000e+07</td>\n    </tr>\n    <tr>\n      <th>Total Length of Bwd Packets</th>\n      <td>2830743.0</td>\n      <td>1.616264e+04</td>\n      <td>2.263088e+06</td>\n      <td>0.000000e+00</td>\n      <td>0.000000</td>\n      <td>123.000000</td>\n      <td>4.820000e+02</td>\n      <td>6.554530e+08</td>\n    </tr>\n    <tr>\n      <th>Fwd Packet Length Max</th>\n      <td>2830743.0</td>\n      <td>2.075999e+02</td>\n      <td>7.171848e+02</td>\n      <td>0.000000e+00</td>\n      <td>6.000000</td>\n      <td>37.000000</td>\n      <td>8.100000e+01</td>\n      <td>2.482000e+04</td>\n    </tr>\n    <tr>\n      <th>Fwd Packet Length Min</th>\n      <td>2830743.0</td>\n      <td>1.871366e+01</td>\n      <td>6.033935e+01</td>\n      <td>0.000000e+00</td>\n      <td>0.000000</td>\n      <td>2.000000</td>\n      <td>3.600000e+01</td>\n      <td>2.325000e+03</td>\n    </tr>\n    <tr>\n      <th>Fwd Packet Length Mean</th>\n      <td>2830743.0</td>\n      <td>5.820194e+01</td>\n      <td>1.860912e+02</td>\n      <td>0.000000e+00</td>\n      <td>6.000000</td>\n      <td>34.000000</td>\n      <td>5.000000e+01</td>\n      <td>5.940857e+03</td>\n    </tr>\n    <tr>\n      <th>Fwd Packet Length Std</th>\n      <td>2830743.0</td>\n      <td>6.891013e+01</td>\n      <td>2.811871e+02</td>\n      <td>0.000000e+00</td>\n      <td>0.000000</td>\n      <td>0.000000</td>\n      <td>2.616295e+01</td>\n      <td>7.125597e+03</td>\n    </tr>\n    <tr>\n      <th>Bwd Packet Length Max</th>\n      <td>2830743.0</td>\n      <td>8.708495e+02</td>\n      <td>1.946367e+03</td>\n      <td>0.000000e+00</td>\n      <td>0.000000</td>\n      <td>79.000000</td>\n      <td>2.800000e+02</td>\n      <td>1.953000e+04</td>\n    </tr>\n    <tr>\n      <th>Bwd Packet Length Min</th>\n      <td>2830743.0</td>\n      <td>4.104958e+01</td>\n      <td>6.886260e+01</td>\n      <td>0.000000e+00</td>\n      <td>0.000000</td>\n      <td>0.000000</td>\n      <td>7.700000e+01</td>\n      <td>2.896000e+03</td>\n    </tr>\n    <tr>\n      <th>Bwd Packet Length Mean</th>\n      <td>2830743.0</td>\n      <td>3.059493e+02</td>\n      <td>6.052568e+02</td>\n      <td>0.000000e+00</td>\n      <td>0.000000</td>\n      <td>72.000000</td>\n      <td>1.810000e+02</td>\n      <td>5.800500e+03</td>\n    </tr>\n    <tr>\n      <th>Bwd Packet Length Std</th>\n      <td>2830743.0</td>\n      <td>3.353257e+02</td>\n      <td>8.396932e+02</td>\n      <td>0.000000e+00</td>\n      <td>0.000000</td>\n      <td>0.000000</td>\n      <td>7.794054e+01</td>\n      <td>8.194660e+03</td>\n    </tr>\n    <tr>\n      <th>Flow IAT Mean</th>\n      <td>2830743.0</td>\n      <td>1.298449e+06</td>\n      <td>4.507944e+06</td>\n      <td>-1.300000e+01</td>\n      <td>63.666667</td>\n      <td>11438.842110</td>\n      <td>3.374266e+05</td>\n      <td>1.200000e+08</td>\n    </tr>\n    <tr>\n      <th>Flow IAT Std</th>\n      <td>2830743.0</td>\n      <td>2.919271e+06</td>\n      <td>8.045870e+06</td>\n      <td>0.000000e+00</td>\n      <td>0.000000</td>\n      <td>137.178716</td>\n      <td>6.912663e+05</td>\n      <td>8.480026e+07</td>\n    </tr>\n    <tr>\n      <th>Flow IAT Max</th>\n      <td>2830743.0</td>\n      <td>9.182475e+06</td>\n      <td>2.445954e+07</td>\n      <td>-1.300000e+01</td>\n      <td>123.000000</td>\n      <td>30865.000000</td>\n      <td>2.440145e+06</td>\n      <td>1.200000e+08</td>\n    </tr>\n    <tr>\n      <th>Flow IAT Min</th>\n      <td>2830743.0</td>\n      <td>1.623796e+05</td>\n      <td>2.950282e+06</td>\n      <td>-1.400000e+01</td>\n      <td>3.000000</td>\n      <td>4.000000</td>\n      <td>6.400000e+01</td>\n      <td>1.200000e+08</td>\n    </tr>\n    <tr>\n      <th>Fwd IAT Total</th>\n      <td>2830743.0</td>\n      <td>1.448296e+07</td>\n      <td>3.357581e+07</td>\n      <td>0.000000e+00</td>\n      <td>0.000000</td>\n      <td>43.000000</td>\n      <td>1.242844e+06</td>\n      <td>1.200000e+08</td>\n    </tr>\n    <tr>\n      <th>Fwd IAT Mean</th>\n      <td>2830743.0</td>\n      <td>2.610193e+06</td>\n      <td>9.525722e+06</td>\n      <td>0.000000e+00</td>\n      <td>0.000000</td>\n      <td>26.000000</td>\n      <td>2.063064e+05</td>\n      <td>1.200000e+08</td>\n    </tr>\n    <tr>\n      <th>Fwd IAT Std</th>\n      <td>2830743.0</td>\n      <td>3.266957e+06</td>\n      <td>9.639055e+06</td>\n      <td>0.000000e+00</td>\n      <td>0.000000</td>\n      <td>0.000000</td>\n      <td>6.598982e+04</td>\n      <td>8.460293e+07</td>\n    </tr>\n    <tr>\n      <th>Fwd IAT Max</th>\n      <td>2830743.0</td>\n      <td>9.042939e+06</td>\n      <td>2.452916e+07</td>\n      <td>0.000000e+00</td>\n      <td>0.000000</td>\n      <td>43.000000</td>\n      <td>9.310060e+05</td>\n      <td>1.200000e+08</td>\n    </tr>\n    <tr>\n      <th>Fwd IAT Min</th>\n      <td>2830743.0</td>\n      <td>1.021893e+06</td>\n      <td>8.591436e+06</td>\n      <td>-1.200000e+01</td>\n      <td>0.000000</td>\n      <td>3.000000</td>\n      <td>4.800000e+01</td>\n      <td>1.200000e+08</td>\n    </tr>\n    <tr>\n      <th>Bwd IAT Total</th>\n      <td>2830743.0</td>\n      <td>9.893830e+06</td>\n      <td>2.873661e+07</td>\n      <td>0.000000e+00</td>\n      <td>0.000000</td>\n      <td>3.000000</td>\n      <td>9.858050e+04</td>\n      <td>1.200000e+08</td>\n    </tr>\n    <tr>\n      <th>Bwd IAT Mean</th>\n      <td>2830743.0</td>\n      <td>1.805784e+06</td>\n      <td>8.887197e+06</td>\n      <td>0.000000e+00</td>\n      <td>0.000000</td>\n      <td>3.000000</td>\n      <td>1.824857e+04</td>\n      <td>1.200000e+08</td>\n    </tr>\n    <tr>\n      <th>Bwd IAT Std</th>\n      <td>2830743.0</td>\n      <td>1.485973e+06</td>\n      <td>6.278469e+06</td>\n      <td>0.000000e+00</td>\n      <td>0.000000</td>\n      <td>0.000000</td>\n      <td>1.572409e+04</td>\n      <td>8.441801e+07</td>\n    </tr>\n    <tr>\n      <th>Bwd IAT Max</th>\n      <td>2830743.0</td>\n      <td>4.684692e+06</td>\n      <td>1.716095e+07</td>\n      <td>0.000000e+00</td>\n      <td>0.000000</td>\n      <td>3.000000</td>\n      <td>6.021000e+04</td>\n      <td>1.200000e+08</td>\n    </tr>\n    <tr>\n      <th>Bwd IAT Min</th>\n      <td>2830743.0</td>\n      <td>9.672614e+05</td>\n      <td>8.308983e+06</td>\n      <td>0.000000e+00</td>\n      <td>0.000000</td>\n      <td>1.000000</td>\n      <td>4.500000e+01</td>\n      <td>1.200000e+08</td>\n    </tr>\n    <tr>\n      <th>Fwd PSH Flags</th>\n      <td>2830743.0</td>\n      <td>4.644646e-02</td>\n      <td>2.104500e-01</td>\n      <td>0.000000e+00</td>\n      <td>0.000000</td>\n      <td>0.000000</td>\n      <td>0.000000e+00</td>\n      <td>1.000000e+00</td>\n    </tr>\n    <tr>\n      <th>Fwd Header Length</th>\n      <td>2830743.0</td>\n      <td>-2.599739e+04</td>\n      <td>2.105286e+07</td>\n      <td>-3.221223e+10</td>\n      <td>40.000000</td>\n      <td>64.000000</td>\n      <td>1.200000e+02</td>\n      <td>4.644908e+06</td>\n    </tr>\n    <tr>\n      <th>Bwd Header Length</th>\n      <td>2830743.0</td>\n      <td>-2.273275e+03</td>\n      <td>1.452209e+06</td>\n      <td>-1.073741e+09</td>\n      <td>20.000000</td>\n      <td>40.000000</td>\n      <td>1.040000e+02</td>\n      <td>5.838440e+06</td>\n    </tr>\n    <tr>\n      <th>Fwd Packets/s</th>\n      <td>2830743.0</td>\n      <td>6.386535e+04</td>\n      <td>2.475371e+05</td>\n      <td>0.000000e+00</td>\n      <td>1.749446</td>\n      <td>61.325238</td>\n      <td>1.204819e+04</td>\n      <td>3.000000e+06</td>\n    </tr>\n    <tr>\n      <th>Bwd Packets/s</th>\n      <td>2830743.0</td>\n      <td>6.995192e+03</td>\n      <td>3.815170e+04</td>\n      <td>0.000000e+00</td>\n      <td>0.122920</td>\n      <td>19.827894</td>\n      <td>7.352941e+03</td>\n      <td>2.000000e+06</td>\n    </tr>\n    <tr>\n      <th>Min Packet Length</th>\n      <td>2830743.0</td>\n      <td>1.643450e+01</td>\n      <td>2.523772e+01</td>\n      <td>0.000000e+00</td>\n      <td>0.000000</td>\n      <td>2.000000</td>\n      <td>3.600000e+01</td>\n      <td>1.448000e+03</td>\n    </tr>\n    <tr>\n      <th>Max Packet Length</th>\n      <td>2830743.0</td>\n      <td>9.504024e+02</td>\n      <td>2.028229e+03</td>\n      <td>0.000000e+00</td>\n      <td>6.000000</td>\n      <td>87.000000</td>\n      <td>5.250000e+02</td>\n      <td>2.482000e+04</td>\n    </tr>\n    <tr>\n      <th>Packet Length Mean</th>\n      <td>2830743.0</td>\n      <td>1.719444e+02</td>\n      <td>3.054915e+02</td>\n      <td>0.000000e+00</td>\n      <td>6.000000</td>\n      <td>57.200000</td>\n      <td>1.198000e+02</td>\n      <td>3.337143e+03</td>\n    </tr>\n    <tr>\n      <th>Packet Length Std</th>\n      <td>2830743.0</td>\n      <td>2.949756e+02</td>\n      <td>6.318001e+02</td>\n      <td>0.000000e+00</td>\n      <td>0.000000</td>\n      <td>25.980762</td>\n      <td>1.743239e+02</td>\n      <td>4.731522e+03</td>\n    </tr>\n    <tr>\n      <th>Packet Length Variance</th>\n      <td>2830743.0</td>\n      <td>4.861548e+05</td>\n      <td>1.647490e+06</td>\n      <td>0.000000e+00</td>\n      <td>0.000000</td>\n      <td>675.000000</td>\n      <td>3.038884e+04</td>\n      <td>2.240000e+07</td>\n    </tr>\n    <tr>\n      <th>FIN Flag Count</th>\n      <td>2830743.0</td>\n      <td>3.537976e-02</td>\n      <td>1.847378e-01</td>\n      <td>0.000000e+00</td>\n      <td>0.000000</td>\n      <td>0.000000</td>\n      <td>0.000000e+00</td>\n      <td>1.000000e+00</td>\n    </tr>\n    <tr>\n      <th>SYN Flag Count</th>\n      <td>2830743.0</td>\n      <td>4.644646e-02</td>\n      <td>2.104500e-01</td>\n      <td>0.000000e+00</td>\n      <td>0.000000</td>\n      <td>0.000000</td>\n      <td>0.000000e+00</td>\n      <td>1.000000e+00</td>\n    </tr>\n    <tr>\n      <th>PSH Flag Count</th>\n      <td>2830743.0</td>\n      <td>2.980705e-01</td>\n      <td>4.574107e-01</td>\n      <td>0.000000e+00</td>\n      <td>0.000000</td>\n      <td>0.000000</td>\n      <td>1.000000e+00</td>\n      <td>1.000000e+00</td>\n    </tr>\n    <tr>\n      <th>ACK Flag Count</th>\n      <td>2830743.0</td>\n      <td>3.158443e-01</td>\n      <td>4.648513e-01</td>\n      <td>0.000000e+00</td>\n      <td>0.000000</td>\n      <td>0.000000</td>\n      <td>1.000000e+00</td>\n      <td>1.000000e+00</td>\n    </tr>\n    <tr>\n      <th>URG Flag Count</th>\n      <td>2830743.0</td>\n      <td>9.482316e-02</td>\n      <td>2.929706e-01</td>\n      <td>0.000000e+00</td>\n      <td>0.000000</td>\n      <td>0.000000</td>\n      <td>0.000000e+00</td>\n      <td>1.000000e+00</td>\n    </tr>\n    <tr>\n      <th>Down/Up Ratio</th>\n      <td>2830743.0</td>\n      <td>6.835004e-01</td>\n      <td>6.804920e-01</td>\n      <td>0.000000e+00</td>\n      <td>0.000000</td>\n      <td>1.000000</td>\n      <td>1.000000e+00</td>\n      <td>1.560000e+02</td>\n    </tr>\n    <tr>\n      <th>Average Packet Size</th>\n      <td>2830743.0</td>\n      <td>1.919837e+02</td>\n      <td>3.318603e+02</td>\n      <td>0.000000e+00</td>\n      <td>7.500000</td>\n      <td>72.250000</td>\n      <td>1.492639e+02</td>\n      <td>3.893333e+03</td>\n    </tr>\n    <tr>\n      <th>Avg Fwd Segment Size</th>\n      <td>2830743.0</td>\n      <td>5.820194e+01</td>\n      <td>1.860912e+02</td>\n      <td>0.000000e+00</td>\n      <td>6.000000</td>\n      <td>34.000000</td>\n      <td>5.000000e+01</td>\n      <td>5.940857e+03</td>\n    </tr>\n    <tr>\n      <th>Avg Bwd Segment Size</th>\n      <td>2830743.0</td>\n      <td>3.059493e+02</td>\n      <td>6.052568e+02</td>\n      <td>0.000000e+00</td>\n      <td>0.000000</td>\n      <td>72.000000</td>\n      <td>1.810000e+02</td>\n      <td>5.800500e+03</td>\n    </tr>\n    <tr>\n      <th>Fwd Header Length.1</th>\n      <td>2830743.0</td>\n      <td>-2.599739e+04</td>\n      <td>2.105286e+07</td>\n      <td>-3.221223e+10</td>\n      <td>40.000000</td>\n      <td>64.000000</td>\n      <td>1.200000e+02</td>\n      <td>4.644908e+06</td>\n    </tr>\n    <tr>\n      <th>Subflow Fwd Packets</th>\n      <td>2830743.0</td>\n      <td>9.361160e+00</td>\n      <td>7.496728e+02</td>\n      <td>1.000000e+00</td>\n      <td>2.000000</td>\n      <td>2.000000</td>\n      <td>5.000000e+00</td>\n      <td>2.197590e+05</td>\n    </tr>\n    <tr>\n      <th>Subflow Fwd Bytes</th>\n      <td>2830743.0</td>\n      <td>5.492919e+02</td>\n      <td>9.980070e+03</td>\n      <td>0.000000e+00</td>\n      <td>12.000000</td>\n      <td>62.000000</td>\n      <td>1.870000e+02</td>\n      <td>1.287034e+07</td>\n    </tr>\n    <tr>\n      <th>Subflow Bwd Packets</th>\n      <td>2830743.0</td>\n      <td>1.039377e+01</td>\n      <td>9.973883e+02</td>\n      <td>0.000000e+00</td>\n      <td>1.000000</td>\n      <td>2.000000</td>\n      <td>4.000000e+00</td>\n      <td>2.919220e+05</td>\n    </tr>\n    <tr>\n      <th>Subflow Bwd Bytes</th>\n      <td>2830743.0</td>\n      <td>1.616230e+04</td>\n      <td>2.263057e+06</td>\n      <td>0.000000e+00</td>\n      <td>0.000000</td>\n      <td>123.000000</td>\n      <td>4.820000e+02</td>\n      <td>6.554530e+08</td>\n    </tr>\n    <tr>\n      <th>Init_Win_bytes_forward</th>\n      <td>2830743.0</td>\n      <td>6.989837e+03</td>\n      <td>1.433873e+04</td>\n      <td>-1.000000e+00</td>\n      <td>-1.000000</td>\n      <td>251.000000</td>\n      <td>8.192000e+03</td>\n      <td>6.553500e+04</td>\n    </tr>\n    <tr>\n      <th>Init_Win_bytes_backward</th>\n      <td>2830743.0</td>\n      <td>1.989433e+03</td>\n      <td>8.456883e+03</td>\n      <td>-1.000000e+00</td>\n      <td>-1.000000</td>\n      <td>-1.000000</td>\n      <td>2.350000e+02</td>\n      <td>6.553500e+04</td>\n    </tr>\n    <tr>\n      <th>act_data_pkt_fwd</th>\n      <td>2830743.0</td>\n      <td>5.418218e+00</td>\n      <td>6.364257e+02</td>\n      <td>0.000000e+00</td>\n      <td>0.000000</td>\n      <td>1.000000</td>\n      <td>2.000000e+00</td>\n      <td>2.135570e+05</td>\n    </tr>\n    <tr>\n      <th>min_seg_size_forward</th>\n      <td>2830743.0</td>\n      <td>-2.741688e+03</td>\n      <td>1.084989e+06</td>\n      <td>-5.368707e+08</td>\n      <td>20.000000</td>\n      <td>24.000000</td>\n      <td>3.200000e+01</td>\n      <td>1.380000e+02</td>\n    </tr>\n    <tr>\n      <th>Active Mean</th>\n      <td>2830743.0</td>\n      <td>8.155132e+04</td>\n      <td>6.485999e+05</td>\n      <td>0.000000e+00</td>\n      <td>0.000000</td>\n      <td>0.000000</td>\n      <td>0.000000e+00</td>\n      <td>1.100000e+08</td>\n    </tr>\n    <tr>\n      <th>Active Std</th>\n      <td>2830743.0</td>\n      <td>4.113412e+04</td>\n      <td>3.933815e+05</td>\n      <td>0.000000e+00</td>\n      <td>0.000000</td>\n      <td>0.000000</td>\n      <td>0.000000e+00</td>\n      <td>7.420000e+07</td>\n    </tr>\n    <tr>\n      <th>Active Max</th>\n      <td>2830743.0</td>\n      <td>1.531825e+05</td>\n      <td>1.025825e+06</td>\n      <td>0.000000e+00</td>\n      <td>0.000000</td>\n      <td>0.000000</td>\n      <td>0.000000e+00</td>\n      <td>1.100000e+08</td>\n    </tr>\n    <tr>\n      <th>Active Min</th>\n      <td>2830743.0</td>\n      <td>5.829582e+04</td>\n      <td>5.770923e+05</td>\n      <td>0.000000e+00</td>\n      <td>0.000000</td>\n      <td>0.000000</td>\n      <td>0.000000e+00</td>\n      <td>1.100000e+08</td>\n    </tr>\n    <tr>\n      <th>Idle Mean</th>\n      <td>2830743.0</td>\n      <td>8.316037e+06</td>\n      <td>2.363008e+07</td>\n      <td>0.000000e+00</td>\n      <td>0.000000</td>\n      <td>0.000000</td>\n      <td>0.000000e+00</td>\n      <td>1.200000e+08</td>\n    </tr>\n    <tr>\n      <th>Idle Std</th>\n      <td>2830743.0</td>\n      <td>5.038439e+05</td>\n      <td>4.602984e+06</td>\n      <td>0.000000e+00</td>\n      <td>0.000000</td>\n      <td>0.000000</td>\n      <td>0.000000e+00</td>\n      <td>7.690000e+07</td>\n    </tr>\n    <tr>\n      <th>Idle Max</th>\n      <td>2830743.0</td>\n      <td>8.695752e+06</td>\n      <td>2.436689e+07</td>\n      <td>0.000000e+00</td>\n      <td>0.000000</td>\n      <td>0.000000</td>\n      <td>0.000000e+00</td>\n      <td>1.200000e+08</td>\n    </tr>\n    <tr>\n      <th>Idle Min</th>\n      <td>2830743.0</td>\n      <td>7.920031e+06</td>\n      <td>2.336342e+07</td>\n      <td>0.000000e+00</td>\n      <td>0.000000</td>\n      <td>0.000000</td>\n      <td>0.000000e+00</td>\n      <td>1.200000e+08</td>\n    </tr>\n  </tbody>\n</table>\n</div>"
     },
     "metadata": {},
     "output_type": "display_data"
    }
   ],
   "source": [
    "display_all(data.describe().T)"
   ]
  },
  {
   "cell_type": "code",
   "execution_count": 12,
   "metadata": {
    "pycharm": {
     "is_executing": false
    }
   },
   "outputs": [],
   "source": [
    "data = data.astype(float).apply(pd.to_numeric)"
   ]
  },
  {
   "cell_type": "code",
   "execution_count": 13,
   "metadata": {
    "pycharm": {
     "is_executing": false
    },
    "scrolled": true
   },
   "outputs": [
    {
     "data": {
      "text/plain": "0"
     },
     "metadata": {},
     "output_type": "execute_result",
     "execution_count": 13
    }
   ],
   "source": [
    "# lets count if there is NaN values in our dataframe( AKA missing features)\n",
    "data.isnull().sum().sum()"
   ]
  },
  {
   "cell_type": "code",
   "execution_count": 14,
   "metadata": {
    "pycharm": {
     "is_executing": false
    }
   },
   "outputs": [
    {
     "name": "stdout",
     "text": [
      "188716\n",
      "2830740\n"
     ],
     "output_type": "stream"
    }
   ],
   "source": [
    "unique,counts = np.unique(df_label,return_counts=True)\n",
    "mean_samples_per_class = int(round(np.mean(counts)))\n",
    "print(mean_samples_per_class)\n",
    "print(mean_samples_per_class * len(counts))"
   ]
  },
  {
   "cell_type": "code",
   "execution_count": 15,
   "metadata": {
    "pycharm": {
     "is_executing": false
    }
   },
   "outputs": [],
   "source": [
    "#Since the above data is imbalanced we do oversampling to balance data\n",
    "def balance_data(X,y):\n",
    "    unique,counts = np.unique(y,return_counts=True)\n",
    "    mean_samples_per_class = int(round(np.mean(counts)))\n",
    "    new_X = np.empty((0,X.shape[1]))\n",
    "    new_y = np.empty((0),dtype=int)\n",
    "    for i,c in enumerate(unique):\n",
    "        temp_x = X[y==c]\n",
    "        indices = np.random.choice(temp_x.shape[0],mean_samples_per_class)\n",
    "        new_X = np.concatenate((new_X,temp_x[indices]),axis=0)\n",
    "        temp_y = np.ones(mean_samples_per_class,dtype=int)*c\n",
    "        new_y = np.concatenate((new_y,temp_y),axis=0)\n",
    "\n",
    "    # in order to break class order in data we need shuffling\n",
    "    indices = np.arange(new_y.shape[0])\n",
    "    np.random.shuffle(indices)\n",
    "    new_X =  new_X[indices,:]\n",
    "    new_y = new_y[indices]\n",
    "    return (new_X,new_y)\n"
   ]
  },
  {
   "cell_type": "code",
   "execution_count": 16,
   "metadata": {
    "pycharm": {
     "is_executing": false
    }
   },
   "outputs": [],
   "source": [
    "# chganges label from string to integer/index\n",
    "def encode_label(Y_str):\n",
    "    labels_d = make_value2index(np.unique(Y_str))\n",
    "    Y = [labels_d[y_str] for y_str  in Y_str]\n",
    "    Y = np.array(Y)\n",
    "    return np.array(Y)\n",
    "\n",
    "def make_value2index(attacks):\n",
    "    #make dictionary\n",
    "    attacks = sorted(attacks)\n",
    "    d = {}\n",
    "    counter=0\n",
    "    for attack in attacks:\n",
    "        d[attack] = counter\n",
    "        counter+=1\n",
    "    return d\n"
   ]
  },
  {
   "cell_type": "code",
   "execution_count": 17,
   "metadata": {
    "pycharm": {
     "is_executing": false
    }
   },
   "outputs": [],
   "source": [
    "# normalization\n",
    "def normilize(data):\n",
    "        data = data.astype(np.float32)\n",
    "       \n",
    "        eps = 1e-15\n",
    "\n",
    "        mask = data==-1\n",
    "        data[mask]=0\n",
    "        mean_i = np.mean(data,axis=0)\n",
    "        min_i = np.min(data,axis=0) #  to leave -1 (missing features) values as is and exclude in normilizing\n",
    "        max_i = np.max(data,axis=0)\n",
    "\n",
    "        r = max_i-min_i+eps\n",
    "        data = (data-mean_i)/r  # zero centered \n",
    "\n",
    "        #deal with missing features -1\n",
    "        data[mask] = 0\n",
    "        \n",
    "        nan_index = np.isnan(data)\n",
    "        nan_data = data[nan_index]\n",
    "        \n",
    "        return data"
   ]
  },
  {
   "cell_type": "code",
   "execution_count": 18,
   "metadata": {
    "pycharm": {
     "is_executing": false
    }
   },
   "outputs": [
    {
     "name": "stdout",
     "text": [
      "(2830743, 64) (2830743,)\n"
     ],
     "output_type": "stream"
    }
   ],
   "source": [
    "from sklearn import preprocessing\n",
    "data_np = data.values # convert to numpy array\n",
    "X = data_np\n",
    "X = normilize(X)\n",
    "#X = preprocessing.scale(X)\n",
    "y = df_label.values\n",
    "y = encode_label(y)\n",
    "N = X.shape[0]\n",
    "print(X.shape,y.shape)"
   ]
  },
  {
   "cell_type": "code",
   "execution_count": 19,
   "metadata": {
    "pycharm": {
     "is_executing": false
    }
   },
   "outputs": [],
   "source": [
    "from sklearn.model_selection import train_test_split\n",
    "from sklearn import metrics\n",
    "\n",
    "X_train, X_final_test, y_train, y_final_test = train_test_split(\n",
    "    X, y, test_size=0.2, random_state=2)\n",
    "\n",
    "X_train, X_val, y_train, y_val = train_test_split(\n",
    "    X_train, y_train, test_size=0.1, random_state=2)"
   ]
  },
  {
   "cell_type": "code",
   "execution_count": 20,
   "metadata": {
    "pycharm": {
     "is_executing": false
    }
   },
   "outputs": [
    {
     "name": "stdout",
     "text": [
      "[ 0  1  2  3  4  5  6  7  8  9 10 11 12 13 14] [1636805    1402   92068    7398  166350    3951    4162    5821       5\n",
      "      27  114386    4188    1085      13     473]\n"
     ],
     "output_type": "stream"
    }
   ],
   "source": [
    "unique,counts = np.unique(y_train,return_counts=True)\n",
    "print(unique, counts)"
   ]
  },
  {
   "cell_type": "code",
   "execution_count": 21,
   "metadata": {
    "pycharm": {
     "is_executing": false
    },
    "scrolled": false
   },
   "outputs": [
    {
     "name": "stdout",
     "text": [
      "(2038140, 64) (2038140,) (2830743, 64)\n",
      "[ 0  1  2  3  4  5  6  7  8  9 10 11 12 13 14] [135876 135876 135876 135876 135876 135876 135876 135876 135876 135876\n",
      " 135876 135876 135876 135876 135876]\n"
     ],
     "output_type": "stream"
    }
   ],
   "source": [
    "np.random.seed(5)\n",
    "X_train_balanced,y_train_balanced = balance_data(X_train,y_train)\n",
    "print(X_train_balanced.shape, y_train_balanced.shape, data.shape)\n",
    "\n",
    "unique,counts = np.unique(y_train_balanced,return_counts=True)\n",
    "print(unique, counts)"
   ]
  },
  {
   "cell_type": "code",
   "execution_count": 22,
   "metadata": {
    "pycharm": {
     "is_executing": false
    }
   },
   "outputs": [
    {
     "name": "stdout",
     "text": [
      "(2038140, 64) (2038140,)\n"
     ],
     "output_type": "stream"
    }
   ],
   "source": [
    "print(X_train_balanced.shape, y_train_balanced.shape)"
   ]
  },
  {
   "cell_type": "code",
   "execution_count": 23,
   "metadata": {
    "pycharm": {
     "is_executing": false
    },
    "scrolled": true
   },
   "outputs": [
    {
     "data": {
      "text/plain": "        count      mean       std       min           25%           50%  \\\n0   2038140.0 -0.085244  0.143164 -0.123163 -1.219422e-01 -1.219422e-01   \n1   2038140.0  0.115452  0.350921 -0.123214 -1.232056e-01 -7.846361e-02   \n2   2038140.0  0.000994  0.003784 -0.000038 -3.349667e-05 -2.894621e-05   \n3   2038140.0  0.000607  0.002616 -0.000036 -3.217903e-05 -2.875346e-05   \n4   2038140.0  0.002419  0.018595 -0.000043 -4.258159e-05 -4.056608e-05   \n5   2038140.0  0.000657  0.003010 -0.000025 -2.465874e-05 -2.464959e-05   \n6   2038140.0  0.012967  0.055768 -0.008364 -8.364217e-03 -7.558415e-03   \n7   2038140.0 -0.003249  0.050393 -0.008049 -8.048884e-03 -8.048884e-03   \n8   2038140.0  0.001376  0.038146 -0.009797 -9.796889e-03 -8.618607e-03   \n9   2038140.0  0.001517  0.028313 -0.009671 -9.670787e-03 -8.876909e-03   \n10  2038140.0  0.057919  0.212308 -0.044590 -4.459034e-02 -4.428312e-02   \n11  2038140.0 -0.012647  0.008966 -0.014175 -1.417458e-02 -1.417458e-02   \n12  2038140.0  0.044936  0.190917 -0.052745 -5.274535e-02 -5.171095e-02   \n13  2038140.0  0.032434  0.139916 -0.040920 -4.092003e-02 -4.092003e-02   \n14  2038140.0  0.015449  0.075170 -0.010820 -1.081607e-02 -8.028203e-03   \n15  2038140.0  0.024172  0.129073 -0.034425 -3.442504e-02 -2.695590e-02   \n16  2038140.0  0.051128  0.241393 -0.076521 -7.651246e-02 -5.512863e-02   \n17  2038140.0  0.005592  0.059445 -0.001353 -1.353138e-03 -1.352805e-03   \n18  2038140.0  0.109767  0.351780 -0.120691 -1.206895e-01 -7.696132e-02   \n19  2038140.0  0.021353  0.130504 -0.021752 -2.174978e-02 -1.794078e-02   \n20  2038140.0  0.016635  0.127044 -0.038615 -3.861518e-02 -3.624125e-02   \n21  2038140.0  0.048401  0.241521 -0.075358 -7.535599e-02 -5.865841e-02   \n22  2038140.0  0.014795  0.126302 -0.008516 -8.515771e-03 -8.515371e-03   \n23  2038140.0  0.087406  0.331331 -0.082449 -8.244855e-02 -8.244852e-02   \n24  2038140.0  0.017128  0.124503 -0.015048 -1.504820e-02 -1.504816e-02   \n25  2038140.0  0.018398  0.126602 -0.017603 -1.760256e-02 -1.760256e-02   \n26  2038140.0  0.034986  0.203227 -0.039039 -3.903911e-02 -3.903907e-02   \n27  2038140.0  0.009248  0.104303 -0.008061 -8.060511e-03 -8.060503e-03   \n28  2038140.0  0.055689  0.302827 -0.046446 -4.644646e-02 -4.644646e-02   \n29  2038140.0  0.000001  0.000002 -0.002603  8.089356e-07  8.101772e-07   \n30  2038140.0  0.000007  0.000057 -0.077700  2.124230e-06  2.161281e-06   \n31  2038140.0 -0.011355  0.054285 -0.021288 -2.128828e-02 -2.128792e-02   \n32  2038140.0 -0.000304  0.018290 -0.003498 -3.497560e-03 -3.497196e-03   \n33  2038140.0 -0.009058  0.015294 -0.011350 -1.134980e-02 -1.134980e-02   \n34  2038140.0  0.047177  0.167237 -0.038292 -3.829181e-02 -3.692194e-02   \n35  2038140.0  0.033168  0.145704 -0.051524 -5.152443e-02 -4.803642e-02   \n36  2038140.0  0.046615  0.188047 -0.062343 -6.234263e-02 -6.026826e-02   \n37  2038140.0  0.025503  0.105633 -0.021703 -2.170334e-02 -2.169904e-02   \n38  2038140.0 -0.017075  0.134050 -0.035380 -3.537976e-02 -3.537976e-02   \n39  2038140.0  0.055689  0.302827 -0.046446 -4.644646e-02 -4.644646e-02   \n40  2038140.0  0.250540  0.497632 -0.298071 -2.980705e-01  7.019295e-01   \n41  2038140.0  0.088440  0.490753 -0.315844 -3.158443e-01 -3.158443e-01   \n42  2038140.0  0.015522  0.313320 -0.094823 -9.482316e-02 -9.482316e-02   \n43  2038140.0 -0.001349  0.003616 -0.004381 -4.381413e-03 -4.381413e-03   \n44  2038140.0  0.028095  0.131139 -0.049311 -4.931086e-02 -4.614306e-02   \n45  2038140.0  0.001376  0.038146 -0.009797 -9.796889e-03 -8.618607e-03   \n46  2038140.0  0.044936  0.190917 -0.052745 -5.274535e-02 -5.171095e-02   \n47  2038140.0  0.000001  0.000002 -0.002603  8.089356e-07  8.101772e-07   \n48  2038140.0  0.000994  0.003784 -0.000038 -3.349667e-05 -2.894621e-05   \n49  2038140.0  0.002424  0.018638 -0.000043 -4.267891e-05 -4.065876e-05   \n50  2038140.0  0.000607  0.002616 -0.000036 -3.217903e-05 -2.875346e-05   \n51  2038140.0  0.000657  0.003010 -0.000025 -2.465823e-05 -2.464907e-05   \n52  2038140.0  0.100684  0.211529 -0.106664 -1.027572e-01  1.833840e-02   \n53  2038140.0  0.035455  0.145461 -0.030365 -2.677870e-02 -2.674818e-02   \n54  2038140.0  0.000323  0.002600 -0.000025 -2.537130e-05 -2.068871e-05   \n55  2038140.0  0.000005  0.000109 -0.156243  5.151495e-06  5.166396e-06   \n56  2038140.0  0.004632  0.021035 -0.000741 -7.413762e-04 -7.413762e-04   \n57  2038140.0  0.002458  0.020850 -0.000554 -5.543684e-04 -5.543684e-04   \n58  2038140.0  0.005531  0.027903 -0.001393 -1.392568e-03 -1.392568e-03   \n59  2038140.0  0.003351  0.017706 -0.000530 -5.299619e-04 -5.299619e-04   \n60  2038140.0  0.026497  0.228475 -0.069300 -6.930031e-02 -6.930031e-02   \n61  2038140.0  0.017488  0.089606 -0.006552 -6.551936e-03 -6.551936e-03   \n62  2038140.0  0.039826  0.244074 -0.072465 -7.246463e-02 -7.246463e-02   \n63  2038140.0  0.018343  0.224798 -0.066000 -6.600026e-02 -6.600026e-02   \n\n             75%       max  \n0  -1.163879e-01  0.876776  \n1   4.024964e-01  0.876786  \n2  -6.193910e-06  0.974325  \n3  -1.505117e-05  0.974889  \n4  -9.536814e-07  0.222136  \n5  -2.034875e-05  0.960533  \n6   8.879941e-03  0.991636  \n7  -8.048884e-03  0.880123  \n8   1.343389e-04  0.990203  \n9   8.410029e-03  0.979646  \n10  1.009476e-02  0.845118  \n11 -1.417458e-02  0.670563  \n12  9.892936e-03  0.947255  \n13  3.345446e-03  0.959080  \n14  4.666208e-03  0.989179  \n15  3.478326e-03  0.965572  \n16 -2.199111e-02  0.923479  \n17 -1.352313e-03  0.998647  \n18  4.051420e-01  0.879309  \n19  1.141177e-03  0.978248  \n20  5.736802e-03  0.950712  \n21 -2.267736e-02  0.924642  \n22 -8.509946e-03  0.991484  \n23  1.171812e-02  0.917551  \n24 -1.154305e-02  0.984952  \n25 -9.189290e-03  0.955219  \n26 -1.841295e-02  0.960961  \n27 -8.060102e-03  0.991939  \n28 -4.644646e-02  0.953554  \n29  8.156402e-07  0.000141  \n30  2.290961e-06  0.005275  \n31 -2.061232e-02  0.978712  \n32 -3.477910e-03  0.996502  \n33 -1.134980e-02  0.927186  \n34  2.053172e-02  0.961708  \n35  2.898356e-02  0.596757  \n36  6.728442e-02  0.937657  \n37 -4.909686e-03  0.978297  \n38 -3.537976e-02  0.964620  \n39 -4.644646e-02  0.953554  \n40  7.019295e-01  0.701929  \n41  6.841557e-01  0.684156  \n42 -9.482316e-02  0.905177  \n43  2.028844e-03  0.046901  \n44  2.832184e-02  0.547658  \n45  1.343389e-04  0.990203  \n46  9.892936e-03  0.947255  \n47  8.156402e-07  0.000141  \n48 -6.193910e-06  0.974325  \n49 -9.550637e-07  0.222648  \n50 -1.505117e-05  0.974889  \n51 -2.034823e-05  0.960533  \n52  3.388999e-01  0.893337  \n53  0.000000e+00  0.969635  \n54 -6.640932e-06  0.956581  \n55  5.166396e-06  0.000005  \n56 -7.413762e-04  0.935622  \n57 -5.543684e-04  0.531791  \n58 -1.392568e-03  0.934971  \n59 -5.299619e-04  0.935834  \n60 -2.063037e-02  0.930700  \n61 -6.551936e-03  0.958338  \n62 -2.378125e-02  0.927535  \n63 -1.957953e-02  0.934000  ",
      "text/html": "<div>\n<style scoped>\n    .dataframe tbody tr th:only-of-type {\n        vertical-align: middle;\n    }\n\n    .dataframe tbody tr th {\n        vertical-align: top;\n    }\n\n    .dataframe thead th {\n        text-align: right;\n    }\n</style>\n<table border=\"1\" class=\"dataframe\">\n  <thead>\n    <tr style=\"text-align: right;\">\n      <th></th>\n      <th>count</th>\n      <th>mean</th>\n      <th>std</th>\n      <th>min</th>\n      <th>25%</th>\n      <th>50%</th>\n      <th>75%</th>\n      <th>max</th>\n    </tr>\n  </thead>\n  <tbody>\n    <tr>\n      <th>0</th>\n      <td>2038140.0</td>\n      <td>-0.085244</td>\n      <td>0.143164</td>\n      <td>-0.123163</td>\n      <td>-1.219422e-01</td>\n      <td>-1.219422e-01</td>\n      <td>-1.163879e-01</td>\n      <td>0.876776</td>\n    </tr>\n    <tr>\n      <th>1</th>\n      <td>2038140.0</td>\n      <td>0.115452</td>\n      <td>0.350921</td>\n      <td>-0.123214</td>\n      <td>-1.232056e-01</td>\n      <td>-7.846361e-02</td>\n      <td>4.024964e-01</td>\n      <td>0.876786</td>\n    </tr>\n    <tr>\n      <th>2</th>\n      <td>2038140.0</td>\n      <td>0.000994</td>\n      <td>0.003784</td>\n      <td>-0.000038</td>\n      <td>-3.349667e-05</td>\n      <td>-2.894621e-05</td>\n      <td>-6.193910e-06</td>\n      <td>0.974325</td>\n    </tr>\n    <tr>\n      <th>3</th>\n      <td>2038140.0</td>\n      <td>0.000607</td>\n      <td>0.002616</td>\n      <td>-0.000036</td>\n      <td>-3.217903e-05</td>\n      <td>-2.875346e-05</td>\n      <td>-1.505117e-05</td>\n      <td>0.974889</td>\n    </tr>\n    <tr>\n      <th>4</th>\n      <td>2038140.0</td>\n      <td>0.002419</td>\n      <td>0.018595</td>\n      <td>-0.000043</td>\n      <td>-4.258159e-05</td>\n      <td>-4.056608e-05</td>\n      <td>-9.536814e-07</td>\n      <td>0.222136</td>\n    </tr>\n    <tr>\n      <th>5</th>\n      <td>2038140.0</td>\n      <td>0.000657</td>\n      <td>0.003010</td>\n      <td>-0.000025</td>\n      <td>-2.465874e-05</td>\n      <td>-2.464959e-05</td>\n      <td>-2.034875e-05</td>\n      <td>0.960533</td>\n    </tr>\n    <tr>\n      <th>6</th>\n      <td>2038140.0</td>\n      <td>0.012967</td>\n      <td>0.055768</td>\n      <td>-0.008364</td>\n      <td>-8.364217e-03</td>\n      <td>-7.558415e-03</td>\n      <td>8.879941e-03</td>\n      <td>0.991636</td>\n    </tr>\n    <tr>\n      <th>7</th>\n      <td>2038140.0</td>\n      <td>-0.003249</td>\n      <td>0.050393</td>\n      <td>-0.008049</td>\n      <td>-8.048884e-03</td>\n      <td>-8.048884e-03</td>\n      <td>-8.048884e-03</td>\n      <td>0.880123</td>\n    </tr>\n    <tr>\n      <th>8</th>\n      <td>2038140.0</td>\n      <td>0.001376</td>\n      <td>0.038146</td>\n      <td>-0.009797</td>\n      <td>-9.796889e-03</td>\n      <td>-8.618607e-03</td>\n      <td>1.343389e-04</td>\n      <td>0.990203</td>\n    </tr>\n    <tr>\n      <th>9</th>\n      <td>2038140.0</td>\n      <td>0.001517</td>\n      <td>0.028313</td>\n      <td>-0.009671</td>\n      <td>-9.670787e-03</td>\n      <td>-8.876909e-03</td>\n      <td>8.410029e-03</td>\n      <td>0.979646</td>\n    </tr>\n    <tr>\n      <th>10</th>\n      <td>2038140.0</td>\n      <td>0.057919</td>\n      <td>0.212308</td>\n      <td>-0.044590</td>\n      <td>-4.459034e-02</td>\n      <td>-4.428312e-02</td>\n      <td>1.009476e-02</td>\n      <td>0.845118</td>\n    </tr>\n    <tr>\n      <th>11</th>\n      <td>2038140.0</td>\n      <td>-0.012647</td>\n      <td>0.008966</td>\n      <td>-0.014175</td>\n      <td>-1.417458e-02</td>\n      <td>-1.417458e-02</td>\n      <td>-1.417458e-02</td>\n      <td>0.670563</td>\n    </tr>\n    <tr>\n      <th>12</th>\n      <td>2038140.0</td>\n      <td>0.044936</td>\n      <td>0.190917</td>\n      <td>-0.052745</td>\n      <td>-5.274535e-02</td>\n      <td>-5.171095e-02</td>\n      <td>9.892936e-03</td>\n      <td>0.947255</td>\n    </tr>\n    <tr>\n      <th>13</th>\n      <td>2038140.0</td>\n      <td>0.032434</td>\n      <td>0.139916</td>\n      <td>-0.040920</td>\n      <td>-4.092003e-02</td>\n      <td>-4.092003e-02</td>\n      <td>3.345446e-03</td>\n      <td>0.959080</td>\n    </tr>\n    <tr>\n      <th>14</th>\n      <td>2038140.0</td>\n      <td>0.015449</td>\n      <td>0.075170</td>\n      <td>-0.010820</td>\n      <td>-1.081607e-02</td>\n      <td>-8.028203e-03</td>\n      <td>4.666208e-03</td>\n      <td>0.989179</td>\n    </tr>\n    <tr>\n      <th>15</th>\n      <td>2038140.0</td>\n      <td>0.024172</td>\n      <td>0.129073</td>\n      <td>-0.034425</td>\n      <td>-3.442504e-02</td>\n      <td>-2.695590e-02</td>\n      <td>3.478326e-03</td>\n      <td>0.965572</td>\n    </tr>\n    <tr>\n      <th>16</th>\n      <td>2038140.0</td>\n      <td>0.051128</td>\n      <td>0.241393</td>\n      <td>-0.076521</td>\n      <td>-7.651246e-02</td>\n      <td>-5.512863e-02</td>\n      <td>-2.199111e-02</td>\n      <td>0.923479</td>\n    </tr>\n    <tr>\n      <th>17</th>\n      <td>2038140.0</td>\n      <td>0.005592</td>\n      <td>0.059445</td>\n      <td>-0.001353</td>\n      <td>-1.353138e-03</td>\n      <td>-1.352805e-03</td>\n      <td>-1.352313e-03</td>\n      <td>0.998647</td>\n    </tr>\n    <tr>\n      <th>18</th>\n      <td>2038140.0</td>\n      <td>0.109767</td>\n      <td>0.351780</td>\n      <td>-0.120691</td>\n      <td>-1.206895e-01</td>\n      <td>-7.696132e-02</td>\n      <td>4.051420e-01</td>\n      <td>0.879309</td>\n    </tr>\n    <tr>\n      <th>19</th>\n      <td>2038140.0</td>\n      <td>0.021353</td>\n      <td>0.130504</td>\n      <td>-0.021752</td>\n      <td>-2.174978e-02</td>\n      <td>-1.794078e-02</td>\n      <td>1.141177e-03</td>\n      <td>0.978248</td>\n    </tr>\n    <tr>\n      <th>20</th>\n      <td>2038140.0</td>\n      <td>0.016635</td>\n      <td>0.127044</td>\n      <td>-0.038615</td>\n      <td>-3.861518e-02</td>\n      <td>-3.624125e-02</td>\n      <td>5.736802e-03</td>\n      <td>0.950712</td>\n    </tr>\n    <tr>\n      <th>21</th>\n      <td>2038140.0</td>\n      <td>0.048401</td>\n      <td>0.241521</td>\n      <td>-0.075358</td>\n      <td>-7.535599e-02</td>\n      <td>-5.865841e-02</td>\n      <td>-2.267736e-02</td>\n      <td>0.924642</td>\n    </tr>\n    <tr>\n      <th>22</th>\n      <td>2038140.0</td>\n      <td>0.014795</td>\n      <td>0.126302</td>\n      <td>-0.008516</td>\n      <td>-8.515771e-03</td>\n      <td>-8.515371e-03</td>\n      <td>-8.509946e-03</td>\n      <td>0.991484</td>\n    </tr>\n    <tr>\n      <th>23</th>\n      <td>2038140.0</td>\n      <td>0.087406</td>\n      <td>0.331331</td>\n      <td>-0.082449</td>\n      <td>-8.244855e-02</td>\n      <td>-8.244852e-02</td>\n      <td>1.171812e-02</td>\n      <td>0.917551</td>\n    </tr>\n    <tr>\n      <th>24</th>\n      <td>2038140.0</td>\n      <td>0.017128</td>\n      <td>0.124503</td>\n      <td>-0.015048</td>\n      <td>-1.504820e-02</td>\n      <td>-1.504816e-02</td>\n      <td>-1.154305e-02</td>\n      <td>0.984952</td>\n    </tr>\n    <tr>\n      <th>25</th>\n      <td>2038140.0</td>\n      <td>0.018398</td>\n      <td>0.126602</td>\n      <td>-0.017603</td>\n      <td>-1.760256e-02</td>\n      <td>-1.760256e-02</td>\n      <td>-9.189290e-03</td>\n      <td>0.955219</td>\n    </tr>\n    <tr>\n      <th>26</th>\n      <td>2038140.0</td>\n      <td>0.034986</td>\n      <td>0.203227</td>\n      <td>-0.039039</td>\n      <td>-3.903911e-02</td>\n      <td>-3.903907e-02</td>\n      <td>-1.841295e-02</td>\n      <td>0.960961</td>\n    </tr>\n    <tr>\n      <th>27</th>\n      <td>2038140.0</td>\n      <td>0.009248</td>\n      <td>0.104303</td>\n      <td>-0.008061</td>\n      <td>-8.060511e-03</td>\n      <td>-8.060503e-03</td>\n      <td>-8.060102e-03</td>\n      <td>0.991939</td>\n    </tr>\n    <tr>\n      <th>28</th>\n      <td>2038140.0</td>\n      <td>0.055689</td>\n      <td>0.302827</td>\n      <td>-0.046446</td>\n      <td>-4.644646e-02</td>\n      <td>-4.644646e-02</td>\n      <td>-4.644646e-02</td>\n      <td>0.953554</td>\n    </tr>\n    <tr>\n      <th>29</th>\n      <td>2038140.0</td>\n      <td>0.000001</td>\n      <td>0.000002</td>\n      <td>-0.002603</td>\n      <td>8.089356e-07</td>\n      <td>8.101772e-07</td>\n      <td>8.156402e-07</td>\n      <td>0.000141</td>\n    </tr>\n    <tr>\n      <th>30</th>\n      <td>2038140.0</td>\n      <td>0.000007</td>\n      <td>0.000057</td>\n      <td>-0.077700</td>\n      <td>2.124230e-06</td>\n      <td>2.161281e-06</td>\n      <td>2.290961e-06</td>\n      <td>0.005275</td>\n    </tr>\n    <tr>\n      <th>31</th>\n      <td>2038140.0</td>\n      <td>-0.011355</td>\n      <td>0.054285</td>\n      <td>-0.021288</td>\n      <td>-2.128828e-02</td>\n      <td>-2.128792e-02</td>\n      <td>-2.061232e-02</td>\n      <td>0.978712</td>\n    </tr>\n    <tr>\n      <th>32</th>\n      <td>2038140.0</td>\n      <td>-0.000304</td>\n      <td>0.018290</td>\n      <td>-0.003498</td>\n      <td>-3.497560e-03</td>\n      <td>-3.497196e-03</td>\n      <td>-3.477910e-03</td>\n      <td>0.996502</td>\n    </tr>\n    <tr>\n      <th>33</th>\n      <td>2038140.0</td>\n      <td>-0.009058</td>\n      <td>0.015294</td>\n      <td>-0.011350</td>\n      <td>-1.134980e-02</td>\n      <td>-1.134980e-02</td>\n      <td>-1.134980e-02</td>\n      <td>0.927186</td>\n    </tr>\n    <tr>\n      <th>34</th>\n      <td>2038140.0</td>\n      <td>0.047177</td>\n      <td>0.167237</td>\n      <td>-0.038292</td>\n      <td>-3.829181e-02</td>\n      <td>-3.692194e-02</td>\n      <td>2.053172e-02</td>\n      <td>0.961708</td>\n    </tr>\n    <tr>\n      <th>35</th>\n      <td>2038140.0</td>\n      <td>0.033168</td>\n      <td>0.145704</td>\n      <td>-0.051524</td>\n      <td>-5.152443e-02</td>\n      <td>-4.803642e-02</td>\n      <td>2.898356e-02</td>\n      <td>0.596757</td>\n    </tr>\n    <tr>\n      <th>36</th>\n      <td>2038140.0</td>\n      <td>0.046615</td>\n      <td>0.188047</td>\n      <td>-0.062343</td>\n      <td>-6.234263e-02</td>\n      <td>-6.026826e-02</td>\n      <td>6.728442e-02</td>\n      <td>0.937657</td>\n    </tr>\n    <tr>\n      <th>37</th>\n      <td>2038140.0</td>\n      <td>0.025503</td>\n      <td>0.105633</td>\n      <td>-0.021703</td>\n      <td>-2.170334e-02</td>\n      <td>-2.169904e-02</td>\n      <td>-4.909686e-03</td>\n      <td>0.978297</td>\n    </tr>\n    <tr>\n      <th>38</th>\n      <td>2038140.0</td>\n      <td>-0.017075</td>\n      <td>0.134050</td>\n      <td>-0.035380</td>\n      <td>-3.537976e-02</td>\n      <td>-3.537976e-02</td>\n      <td>-3.537976e-02</td>\n      <td>0.964620</td>\n    </tr>\n    <tr>\n      <th>39</th>\n      <td>2038140.0</td>\n      <td>0.055689</td>\n      <td>0.302827</td>\n      <td>-0.046446</td>\n      <td>-4.644646e-02</td>\n      <td>-4.644646e-02</td>\n      <td>-4.644646e-02</td>\n      <td>0.953554</td>\n    </tr>\n    <tr>\n      <th>40</th>\n      <td>2038140.0</td>\n      <td>0.250540</td>\n      <td>0.497632</td>\n      <td>-0.298071</td>\n      <td>-2.980705e-01</td>\n      <td>7.019295e-01</td>\n      <td>7.019295e-01</td>\n      <td>0.701929</td>\n    </tr>\n    <tr>\n      <th>41</th>\n      <td>2038140.0</td>\n      <td>0.088440</td>\n      <td>0.490753</td>\n      <td>-0.315844</td>\n      <td>-3.158443e-01</td>\n      <td>-3.158443e-01</td>\n      <td>6.841557e-01</td>\n      <td>0.684156</td>\n    </tr>\n    <tr>\n      <th>42</th>\n      <td>2038140.0</td>\n      <td>0.015522</td>\n      <td>0.313320</td>\n      <td>-0.094823</td>\n      <td>-9.482316e-02</td>\n      <td>-9.482316e-02</td>\n      <td>-9.482316e-02</td>\n      <td>0.905177</td>\n    </tr>\n    <tr>\n      <th>43</th>\n      <td>2038140.0</td>\n      <td>-0.001349</td>\n      <td>0.003616</td>\n      <td>-0.004381</td>\n      <td>-4.381413e-03</td>\n      <td>-4.381413e-03</td>\n      <td>2.028844e-03</td>\n      <td>0.046901</td>\n    </tr>\n    <tr>\n      <th>44</th>\n      <td>2038140.0</td>\n      <td>0.028095</td>\n      <td>0.131139</td>\n      <td>-0.049311</td>\n      <td>-4.931086e-02</td>\n      <td>-4.614306e-02</td>\n      <td>2.832184e-02</td>\n      <td>0.547658</td>\n    </tr>\n    <tr>\n      <th>45</th>\n      <td>2038140.0</td>\n      <td>0.001376</td>\n      <td>0.038146</td>\n      <td>-0.009797</td>\n      <td>-9.796889e-03</td>\n      <td>-8.618607e-03</td>\n      <td>1.343389e-04</td>\n      <td>0.990203</td>\n    </tr>\n    <tr>\n      <th>46</th>\n      <td>2038140.0</td>\n      <td>0.044936</td>\n      <td>0.190917</td>\n      <td>-0.052745</td>\n      <td>-5.274535e-02</td>\n      <td>-5.171095e-02</td>\n      <td>9.892936e-03</td>\n      <td>0.947255</td>\n    </tr>\n    <tr>\n      <th>47</th>\n      <td>2038140.0</td>\n      <td>0.000001</td>\n      <td>0.000002</td>\n      <td>-0.002603</td>\n      <td>8.089356e-07</td>\n      <td>8.101772e-07</td>\n      <td>8.156402e-07</td>\n      <td>0.000141</td>\n    </tr>\n    <tr>\n      <th>48</th>\n      <td>2038140.0</td>\n      <td>0.000994</td>\n      <td>0.003784</td>\n      <td>-0.000038</td>\n      <td>-3.349667e-05</td>\n      <td>-2.894621e-05</td>\n      <td>-6.193910e-06</td>\n      <td>0.974325</td>\n    </tr>\n    <tr>\n      <th>49</th>\n      <td>2038140.0</td>\n      <td>0.002424</td>\n      <td>0.018638</td>\n      <td>-0.000043</td>\n      <td>-4.267891e-05</td>\n      <td>-4.065876e-05</td>\n      <td>-9.550637e-07</td>\n      <td>0.222648</td>\n    </tr>\n    <tr>\n      <th>50</th>\n      <td>2038140.0</td>\n      <td>0.000607</td>\n      <td>0.002616</td>\n      <td>-0.000036</td>\n      <td>-3.217903e-05</td>\n      <td>-2.875346e-05</td>\n      <td>-1.505117e-05</td>\n      <td>0.974889</td>\n    </tr>\n    <tr>\n      <th>51</th>\n      <td>2038140.0</td>\n      <td>0.000657</td>\n      <td>0.003010</td>\n      <td>-0.000025</td>\n      <td>-2.465823e-05</td>\n      <td>-2.464907e-05</td>\n      <td>-2.034823e-05</td>\n      <td>0.960533</td>\n    </tr>\n    <tr>\n      <th>52</th>\n      <td>2038140.0</td>\n      <td>0.100684</td>\n      <td>0.211529</td>\n      <td>-0.106664</td>\n      <td>-1.027572e-01</td>\n      <td>1.833840e-02</td>\n      <td>3.388999e-01</td>\n      <td>0.893337</td>\n    </tr>\n    <tr>\n      <th>53</th>\n      <td>2038140.0</td>\n      <td>0.035455</td>\n      <td>0.145461</td>\n      <td>-0.030365</td>\n      <td>-2.677870e-02</td>\n      <td>-2.674818e-02</td>\n      <td>0.000000e+00</td>\n      <td>0.969635</td>\n    </tr>\n    <tr>\n      <th>54</th>\n      <td>2038140.0</td>\n      <td>0.000323</td>\n      <td>0.002600</td>\n      <td>-0.000025</td>\n      <td>-2.537130e-05</td>\n      <td>-2.068871e-05</td>\n      <td>-6.640932e-06</td>\n      <td>0.956581</td>\n    </tr>\n    <tr>\n      <th>55</th>\n      <td>2038140.0</td>\n      <td>0.000005</td>\n      <td>0.000109</td>\n      <td>-0.156243</td>\n      <td>5.151495e-06</td>\n      <td>5.166396e-06</td>\n      <td>5.166396e-06</td>\n      <td>0.000005</td>\n    </tr>\n    <tr>\n      <th>56</th>\n      <td>2038140.0</td>\n      <td>0.004632</td>\n      <td>0.021035</td>\n      <td>-0.000741</td>\n      <td>-7.413762e-04</td>\n      <td>-7.413762e-04</td>\n      <td>-7.413762e-04</td>\n      <td>0.935622</td>\n    </tr>\n    <tr>\n      <th>57</th>\n      <td>2038140.0</td>\n      <td>0.002458</td>\n      <td>0.020850</td>\n      <td>-0.000554</td>\n      <td>-5.543684e-04</td>\n      <td>-5.543684e-04</td>\n      <td>-5.543684e-04</td>\n      <td>0.531791</td>\n    </tr>\n    <tr>\n      <th>58</th>\n      <td>2038140.0</td>\n      <td>0.005531</td>\n      <td>0.027903</td>\n      <td>-0.001393</td>\n      <td>-1.392568e-03</td>\n      <td>-1.392568e-03</td>\n      <td>-1.392568e-03</td>\n      <td>0.934971</td>\n    </tr>\n    <tr>\n      <th>59</th>\n      <td>2038140.0</td>\n      <td>0.003351</td>\n      <td>0.017706</td>\n      <td>-0.000530</td>\n      <td>-5.299619e-04</td>\n      <td>-5.299619e-04</td>\n      <td>-5.299619e-04</td>\n      <td>0.935834</td>\n    </tr>\n    <tr>\n      <th>60</th>\n      <td>2038140.0</td>\n      <td>0.026497</td>\n      <td>0.228475</td>\n      <td>-0.069300</td>\n      <td>-6.930031e-02</td>\n      <td>-6.930031e-02</td>\n      <td>-2.063037e-02</td>\n      <td>0.930700</td>\n    </tr>\n    <tr>\n      <th>61</th>\n      <td>2038140.0</td>\n      <td>0.017488</td>\n      <td>0.089606</td>\n      <td>-0.006552</td>\n      <td>-6.551936e-03</td>\n      <td>-6.551936e-03</td>\n      <td>-6.551936e-03</td>\n      <td>0.958338</td>\n    </tr>\n    <tr>\n      <th>62</th>\n      <td>2038140.0</td>\n      <td>0.039826</td>\n      <td>0.244074</td>\n      <td>-0.072465</td>\n      <td>-7.246463e-02</td>\n      <td>-7.246463e-02</td>\n      <td>-2.378125e-02</td>\n      <td>0.927535</td>\n    </tr>\n    <tr>\n      <th>63</th>\n      <td>2038140.0</td>\n      <td>0.018343</td>\n      <td>0.224798</td>\n      <td>-0.066000</td>\n      <td>-6.600026e-02</td>\n      <td>-6.600026e-02</td>\n      <td>-1.957953e-02</td>\n      <td>0.934000</td>\n    </tr>\n  </tbody>\n</table>\n</div>"
     },
     "metadata": {},
     "output_type": "display_data"
    }
   ],
   "source": [
    "display_all(pd.DataFrame(X_train_balanced).describe().T)"
   ]
  },
  {
   "cell_type": "code",
   "execution_count": 24,
   "metadata": {
    "pycharm": {
     "is_executing": false
    }
   },
   "outputs": [],
   "source": [
    "def extend2D(normalized_X, extensionSize=32):\n",
    "    if np.ndim(normalized_X) != 2:\n",
    "        print(\"the first parameter should have 2 dimension.\")\n",
    "        return \n",
    "        \n",
    "    X = pd.DataFrame(normalized_X)\n",
    "    \n",
    "    helf_extension_size = extensionSize//2 # nagetive value and positive value\n",
    "    result = None\n",
    "    for i in range(len(X)):\n",
    "        row = X.iloc[i]\n",
    "        arr = np.zeros(shape=(X.shape[1], extensionSize), dtype=np.uint8) # one 2D image\n",
    "        value_index = 0; # the row index of the new 2D image\n",
    "        for value in row:\n",
    "            if value < 0:\n",
    "                index = round((-value) * (helf_extension_size -1))\n",
    "                arr[value_index][index] = 1\n",
    "            else:\n",
    "                index = round(value * helf_extension_size) + helf_extension_size -1\n",
    "                arr[value_index][index] = 1\n",
    "            value_index += 1\n",
    "        \n",
    "        if not result is None:\n",
    "            result = pd.concat([result, pd.DataFrame(arr.reshape(1, arr.size), dtype=np.uint8)])\n",
    "        else:\n",
    "            result = pd.DataFrame(arr.reshape(1, arr.size), dtype=np.uint8)\n",
    "    return  result"
   ]
  },
  {
   "cell_type": "code",
   "execution_count": 25,
   "metadata": {
    "pycharm": {
     "is_executing": false,
     "name": "#%%\n"
    },
    "scrolled": true
   },
   "outputs": [
    {
     "name": "stdout",
     "text": [
      "before extension, shape= (3, 2)\n",
      "after extension, shape= (3, 64)\n"
     ],
     "output_type": "stream"
    },
    {
     "data": {
      "text/plain": "   0   1   2   3   4   5   6   7   8   9   ...  54  55  56  57  58  59  60  \\\n0   0   0   0   0   0   0   0   0   0   0  ...   0   0   0   0   0   0   0   \n0   0   0   0   0   0   0   0   0   0   0  ...   0   0   0   0   0   0   0   \n0   0   0   0   0   0   0   0   0   1   0  ...   0   0   0   0   0   0   0   \n\n   61  62  63  \n0   0   0   0  \n0   0   0   1  \n0   1   0   0  \n\n[3 rows x 64 columns]",
      "text/html": "<div>\n<style scoped>\n    .dataframe tbody tr th:only-of-type {\n        vertical-align: middle;\n    }\n\n    .dataframe tbody tr th {\n        vertical-align: top;\n    }\n\n    .dataframe thead th {\n        text-align: right;\n    }\n</style>\n<table border=\"1\" class=\"dataframe\">\n  <thead>\n    <tr style=\"text-align: right;\">\n      <th></th>\n      <th>0</th>\n      <th>1</th>\n      <th>2</th>\n      <th>3</th>\n      <th>4</th>\n      <th>5</th>\n      <th>6</th>\n      <th>7</th>\n      <th>8</th>\n      <th>9</th>\n      <th>...</th>\n      <th>54</th>\n      <th>55</th>\n      <th>56</th>\n      <th>57</th>\n      <th>58</th>\n      <th>59</th>\n      <th>60</th>\n      <th>61</th>\n      <th>62</th>\n      <th>63</th>\n    </tr>\n  </thead>\n  <tbody>\n    <tr>\n      <th>0</th>\n      <td>0</td>\n      <td>0</td>\n      <td>0</td>\n      <td>0</td>\n      <td>0</td>\n      <td>0</td>\n      <td>0</td>\n      <td>0</td>\n      <td>0</td>\n      <td>0</td>\n      <td>...</td>\n      <td>0</td>\n      <td>0</td>\n      <td>0</td>\n      <td>0</td>\n      <td>0</td>\n      <td>0</td>\n      <td>0</td>\n      <td>0</td>\n      <td>0</td>\n      <td>0</td>\n    </tr>\n    <tr>\n      <th>0</th>\n      <td>0</td>\n      <td>0</td>\n      <td>0</td>\n      <td>0</td>\n      <td>0</td>\n      <td>0</td>\n      <td>0</td>\n      <td>0</td>\n      <td>0</td>\n      <td>0</td>\n      <td>...</td>\n      <td>0</td>\n      <td>0</td>\n      <td>0</td>\n      <td>0</td>\n      <td>0</td>\n      <td>0</td>\n      <td>0</td>\n      <td>0</td>\n      <td>0</td>\n      <td>1</td>\n    </tr>\n    <tr>\n      <th>0</th>\n      <td>0</td>\n      <td>0</td>\n      <td>0</td>\n      <td>0</td>\n      <td>0</td>\n      <td>0</td>\n      <td>0</td>\n      <td>0</td>\n      <td>1</td>\n      <td>0</td>\n      <td>...</td>\n      <td>0</td>\n      <td>0</td>\n      <td>0</td>\n      <td>0</td>\n      <td>0</td>\n      <td>0</td>\n      <td>0</td>\n      <td>1</td>\n      <td>0</td>\n      <td>0</td>\n    </tr>\n  </tbody>\n</table>\n<p>3 rows × 64 columns</p>\n</div>"
     },
     "metadata": {},
     "output_type": "execute_result",
     "execution_count": 25
    }
   ],
   "source": [
    "# test_extend2D\n",
    "tem = pd.DataFrame([[0.1, -0.1], \n",
    "                    [0.3, 0.99], \n",
    "                    [-0.5, 0.9]])\n",
    "\n",
    "ex = extend2D(tem, 32)\n",
    "print('before extension, shape=', tem.shape)\n",
    "print(\"after extension, shape=\", ex.shape)\n",
    "ex"
   ]
  },
  {
   "cell_type": "code",
   "execution_count": 26,
   "metadata": {
    "pycharm": {
     "is_executing": false,
     "name": "#%%\n"
    }
   },
   "outputs": [
    {
     "data": {
      "text/plain": "array([[[0, 0, 0, 0, 0, 0, 0, 0, 0, 0, 0, 0, 0, 0, 0, 0, 0, 1, 0, 0, 0,\n         0, 0, 0, 0, 0, 0, 0, 0, 0, 0, 0],\n        [0, 0, 1, 0, 0, 0, 0, 0, 0, 0, 0, 0, 0, 0, 0, 0, 0, 0, 0, 0, 0,\n         0, 0, 0, 0, 0, 0, 0, 0, 0, 0, 0]],\n\n       [[0, 0, 0, 0, 0, 0, 0, 0, 0, 0, 0, 0, 0, 0, 0, 0, 0, 0, 0, 0, 1,\n         0, 0, 0, 0, 0, 0, 0, 0, 0, 0, 0],\n        [0, 0, 0, 0, 0, 0, 0, 0, 0, 0, 0, 0, 0, 0, 0, 0, 0, 0, 0, 0, 0,\n         0, 0, 0, 0, 0, 0, 0, 0, 0, 0, 1]],\n\n       [[0, 0, 0, 0, 0, 0, 0, 0, 1, 0, 0, 0, 0, 0, 0, 0, 0, 0, 0, 0, 0,\n         0, 0, 0, 0, 0, 0, 0, 0, 0, 0, 0],\n        [0, 0, 0, 0, 0, 0, 0, 0, 0, 0, 0, 0, 0, 0, 0, 0, 0, 0, 0, 0, 0,\n         0, 0, 0, 0, 0, 0, 0, 0, 1, 0, 0]]], dtype=uint8)"
     },
     "metadata": {},
     "output_type": "execute_result",
     "execution_count": 26
    }
   ],
   "source": [
    "ex.values.reshape((3, 2, 32))\n"
   ]
  },
  {
   "cell_type": "markdown",
   "metadata": {
    "pycharm": {
     "name": "#%% md\n"
    }
   },
   "source": [
    "## Save y_train, X_test, y_test, X_val, y_val to hard disk"
   ]
  },
  {
   "cell_type": "code",
   "execution_count": 25,
   "metadata": {
    "pycharm": {
     "is_executing": false,
     "name": "#%%\n"
    }
   },
   "outputs": [],
   "source": [
    "\n",
    "\n",
    "os.makedirs('tmp/y_train', exist_ok=True)\n",
    "path_saved = \"tmp/y_train/y_train_raw\"\n",
    "pd.DataFrame(y_train_balanced).to_csv(path_saved, header=False)"
   ]
  },
  {
   "cell_type": "code",
   "execution_count": 27,
   "metadata": {
    "pycharm": {
     "is_executing": false,
     "name": "#%%\n"
    }
   },
   "outputs": [],
   "source": [
    "os.makedirs('tmp/y_test', exist_ok=True)\n",
    "path_saved = \"tmp/y_test/y_test_raw\"\n",
    "pd.DataFrame(y_final_test).to_csv(path_saved, header=False)"
   ]
  },
  {
   "cell_type": "code",
   "execution_count": 28,
   "metadata": {
    "pycharm": {
     "is_executing": false,
     "name": "#%%\n"
    }
   },
   "outputs": [
    {
     "name": "stdout",
     "text": [
      "(566149, 64)\n",
      "(226460, 64)\n"
     ],
     "output_type": "stream"
    }
   ],
   "source": [
    "print(X_final_test.shape)\n",
    "print(X_val.shape)"
   ]
  },
  {
   "cell_type": "code",
   "execution_count": 29,
   "outputs": [
    {
     "name": "stdout",
     "text": [
      "0 10000\n",
      "10000 20000\n",
      "20000 30000\n",
      "30000 40000\n",
      "40000 50000\n",
      "50000 60000\n",
      "60000 70000\n",
      "70000 80000\n",
      "80000 90000\n",
      "90000 100000\n",
      "100000 110000\n",
      "110000 120000\n",
      "120000 130000\n",
      "130000 140000\n",
      "140000 150000\n",
      "150000 160000\n",
      "160000 170000\n",
      "170000 180000\n",
      "180000 190000\n",
      "190000 200000\n",
      "200000 210000\n",
      "210000 220000\n",
      "220000 230000\n",
      "230000 240000\n",
      "240000 250000\n",
      "250000 260000\n",
      "260000 270000\n",
      "270000 280000\n",
      "280000 290000\n",
      "290000 300000\n",
      "300000 310000\n",
      "310000 320000\n",
      "320000 330000\n",
      "330000 340000\n",
      "340000 350000\n",
      "350000 360000\n",
      "360000 370000\n",
      "370000 380000\n",
      "380000 390000\n",
      "390000 400000\n",
      "400000 410000\n",
      "410000 420000\n",
      "420000 430000\n",
      "430000 440000\n",
      "440000 450000\n",
      "450000 460000\n",
      "460000 470000\n",
      "470000 480000\n",
      "480000 490000\n",
      "490000 500000\n",
      "500000 510000\n",
      "510000 520000\n",
      "520000 530000\n",
      "530000 540000\n",
      "540000 550000\n",
      "550000 560000\n",
      "560000 566149\n",
      "10000 67.51296997070312\n",
      "20000 69.06040239334106\n",
      "30000 69.12736105918884\n",
      "40000 67.55696105957031\n",
      "50000 66.90960001945496\n",
      "60000 69.91655731201172\n",
      "70000 67.19030356407166\n",
      "80000 66.8316900730133\n",
      "90000 67.09940981864929\n",
      "100000 69.55790877342224\n",
      "110000 66.082435131073\n",
      "120000 67.10440349578857\n",
      "130000 67.89858865737915\n",
      "140000 65.5280327796936\n",
      "150000 65.68084144592285\n",
      "160000 65.91861534118652\n",
      "170000 65.57196974754333\n",
      "180000 66.016526222229\n",
      "190000 65.47705340385437\n",
      "200000 65.4131326675415\n",
      "210000 65.61292958259583\n",
      "220000 65.68485355377197\n",
      "230000 65.64889192581177\n",
      "240000 65.2762725353241\n",
      "250000 65.47708439826965\n",
      "260000 65.65788292884827\n",
      "270000 65.43311214447021\n",
      "280000 65.35718202590942\n",
      "290000 65.3222427368164\n",
      "300000 65.74580812454224\n",
      "310000 65.40312457084656\n",
      "320000 65.17938303947449\n",
      "330000 65.3222119808197\n",
      "340000 65.4630811214447\n",
      "350000 65.28428220748901\n",
      "360000 67.3651556968689\n",
      "370000 69.0124351978302\n",
      "380000 69.49895596504211\n",
      "390000 70.5968508720398\n",
      "400000 71.76464676856995\n",
      "410000 70.40901803970337\n",
      "420000 70.49794363975525\n",
      "430000 70.49493885040283\n",
      "440000 70.1852719783783\n",
      "450000 65.81971621513367\n",
      "460000 69.40606427192688\n",
      "470000 68.72574472427368\n",
      "480000 68.50197625160217\n",
      "490000 68.39208579063416\n",
      "500000 68.84462118148804\n",
      "510000 67.90658473968506\n",
      "520000 68.85261702537537\n",
      "530000 68.94353699684143\n",
      "540000 68.67879819869995\n",
      "550000 68.65979623794556\n",
      "560000 68.94454050064087\n",
      "566149 30.889436721801758\n"
     ],
     "output_type": "stream"
    }
   ],
   "source": [
    "import time;\n",
    "\n",
    "range_arr = list()\n",
    "step = 10000\n",
    "start = 0\n",
    "for i in range(step, len(X_final_test), step):\n",
    "    range_arr.append((start, i))\n",
    "    start = i\n",
    "\n",
    "range_arr.append((start, len(X_final_test)))\n",
    "for i in range_arr:\n",
    "    s, end = i\n",
    "    print(s, end)\n",
    "\n",
    "os.makedirs('tmp/X_test', exist_ok=True)\n",
    "path_saved = \"tmp/X_test/X_test_raw\"\n",
    "for r in range_arr:\n",
    "    start_time = time.time()\n",
    "    begin, end = r\n",
    "    X_test_extension = extend2D(X_final_test[begin: end], extensionSize=32)\n",
    "    X_test_extension.to_csv(path_saved, header=False, mode='a')\n",
    "    end_time = time.time()\n",
    "    print(end, end_time-start_time)"
   ],
   "metadata": {
    "collapsed": false,
    "pycharm": {
     "name": "#%%\n",
     "is_executing": false
    }
   }
  },
  {
   "cell_type": "code",
   "execution_count": 34,
   "metadata": {
    "pycharm": {
     "is_executing": false,
     "name": "#%%\n"
    }
   },
   "outputs": [
    {
     "data": {
      "text/plain": [
       "(226460, 64)"
      ]
     },
     "execution_count": 34,
     "metadata": {},
     "output_type": "execute_result"
    }
   ],
   "source": [
    "X_val.shape"
   ]
  },
  {
   "cell_type": "code",
   "execution_count": null,
   "outputs": [],
   "source": [
    "range_arr = list()\n",
    "step = 10000\n",
    "start = 0\n",
    "for i in range(step, len(X_val), step):\n",
    "    range_arr.append((start, i))\n",
    "    start = i\n",
    "\n",
    "range_arr.append((start, len(X_val)))\n",
    "for i in range_arr:\n",
    "    s, end = i\n",
    "    print(s, end)\n",
    "\n",
    "\n",
    "os.makedirs('tmp/X_val', exist_ok=True)\n",
    "path_saved = \"tmp/X_val/X_val_raw\"\n",
    "for r in range_arr:\n",
    "    start_time = time.time()\n",
    "    begin, end = r\n",
    "    # input all data\n",
    "    X_val_extension = extend2D(X_val[begin:end], extensionSize=32)\n",
    "    \n",
    "    X_val_extension.to_csv(path_saved, header=False, mode='a')\n",
    "    \n",
    "    end_time = time.time()\n",
    "    print(end, end_time-start_time)"
   ],
   "metadata": {
    "collapsed": false,
    "pycharm": {
     "name": "#%%\n"
    }
   }
  },
  {
   "cell_type": "code",
   "execution_count": 29,
   "metadata": {
    "pycharm": {
     "is_executing": false,
     "name": "#%%\n"
    }
   },
   "outputs": [],
   "source": [
    "os.makedirs('tmp/y_val', exist_ok=True)\n",
    "path_saved = \"tmp/y_val/y_val_raw\"\n",
    "pd.DataFrame(y_val).to_csv(path_saved, header=False)"
   ]
  },
  {
   "cell_type": "code",
   "execution_count": 120,
   "metadata": {
    "pycharm": {
     "is_executing": false,
     "name": "#%%\n"
    }
   },
   "outputs": [
    {
     "data": {
      "text/plain": [
       "(2038140, 64)"
      ]
     },
     "execution_count": 120,
     "metadata": {},
     "output_type": "execute_result"
    }
   ],
   "source": [
    "X_train_balanced.shape"
   ]
  },
  {
   "cell_type": "code",
   "execution_count": 119,
   "metadata": {
    "pycharm": {
     "is_executing": false
    }
   },
   "outputs": [
    {
     "name": "stdout",
     "output_type": "stream",
     "text": [
      "0 10000\n",
      "10000 20000\n",
      "20000 30000\n",
      "30000 40000\n",
      "40000 50000\n",
      "50000 60000\n",
      "60000 70000\n",
      "70000 80000\n",
      "80000 90000\n",
      "90000 100000\n",
      "100000 110000\n",
      "110000 120000\n",
      "120000 130000\n",
      "130000 140000\n",
      "140000 150000\n",
      "150000 160000\n",
      "160000 170000\n",
      "170000 180000\n",
      "180000 190000\n",
      "190000 200000\n",
      "200000 210000\n",
      "210000 220000\n",
      "220000 230000\n",
      "230000 240000\n",
      "240000 250000\n",
      "250000 260000\n",
      "260000 270000\n",
      "270000 280000\n",
      "280000 290000\n",
      "290000 300000\n",
      "300000 310000\n",
      "310000 320000\n",
      "320000 330000\n",
      "330000 340000\n",
      "340000 350000\n",
      "350000 360000\n",
      "360000 370000\n",
      "370000 380000\n",
      "380000 390000\n",
      "390000 400000\n",
      "400000 410000\n",
      "410000 420000\n",
      "420000 430000\n",
      "430000 440000\n",
      "440000 450000\n",
      "450000 460000\n",
      "460000 470000\n",
      "470000 480000\n",
      "480000 490000\n",
      "490000 500000\n",
      "500000 510000\n",
      "510000 520000\n",
      "520000 530000\n",
      "530000 540000\n",
      "540000 550000\n",
      "550000 560000\n",
      "560000 570000\n",
      "570000 580000\n",
      "580000 590000\n",
      "590000 600000\n",
      "600000 610000\n",
      "610000 620000\n",
      "620000 630000\n",
      "630000 640000\n",
      "640000 650000\n",
      "650000 660000\n",
      "660000 670000\n",
      "670000 680000\n",
      "680000 690000\n",
      "690000 700000\n",
      "700000 710000\n",
      "710000 720000\n",
      "720000 730000\n",
      "730000 740000\n",
      "740000 750000\n",
      "750000 760000\n",
      "760000 770000\n",
      "770000 780000\n",
      "780000 790000\n",
      "790000 800000\n",
      "800000 810000\n",
      "810000 820000\n",
      "820000 830000\n",
      "830000 840000\n",
      "840000 850000\n",
      "850000 860000\n",
      "860000 870000\n",
      "870000 880000\n",
      "880000 890000\n",
      "890000 900000\n",
      "900000 910000\n",
      "910000 920000\n",
      "920000 930000\n",
      "930000 940000\n",
      "940000 950000\n",
      "950000 960000\n",
      "960000 970000\n",
      "970000 980000\n",
      "980000 990000\n",
      "990000 1000000\n",
      "1000000 1010000\n",
      "1010000 1020000\n",
      "1020000 1030000\n",
      "1030000 1040000\n",
      "1040000 1050000\n",
      "1050000 1060000\n",
      "1060000 1070000\n",
      "1070000 1080000\n",
      "1080000 1090000\n",
      "1090000 1100000\n",
      "1100000 1110000\n",
      "1110000 1120000\n",
      "1120000 1130000\n",
      "1130000 1140000\n",
      "1140000 1150000\n",
      "1150000 1160000\n",
      "1160000 1170000\n",
      "1170000 1180000\n",
      "1180000 1190000\n",
      "1190000 1200000\n",
      "1200000 1210000\n",
      "1210000 1220000\n",
      "1220000 1230000\n",
      "1230000 1240000\n",
      "1240000 1250000\n",
      "1250000 1260000\n",
      "1260000 1270000\n",
      "1270000 1280000\n",
      "1280000 1290000\n",
      "1290000 1300000\n",
      "1300000 1310000\n",
      "1310000 1320000\n",
      "1320000 1330000\n",
      "1330000 1340000\n",
      "1340000 1350000\n",
      "1350000 1360000\n",
      "1360000 1370000\n",
      "1370000 1380000\n",
      "1380000 1390000\n",
      "1390000 1400000\n",
      "1400000 1410000\n",
      "1410000 1420000\n",
      "1420000 1430000\n",
      "1430000 1440000\n",
      "1440000 1450000\n",
      "1450000 1460000\n",
      "1460000 1470000\n",
      "1470000 1480000\n",
      "1480000 1490000\n",
      "1490000 1500000\n",
      "1500000 1510000\n",
      "1510000 1520000\n",
      "1520000 1530000\n",
      "1530000 1540000\n",
      "1540000 1550000\n",
      "1550000 1560000\n",
      "1560000 1570000\n",
      "1570000 1580000\n",
      "1580000 1590000\n",
      "1590000 1600000\n",
      "1600000 1610000\n",
      "1610000 1620000\n",
      "1620000 1630000\n",
      "1630000 1640000\n",
      "1640000 1650000\n",
      "1650000 1660000\n",
      "1660000 1670000\n",
      "1670000 1680000\n",
      "1680000 1690000\n",
      "1690000 1700000\n",
      "1700000 1710000\n",
      "1710000 1720000\n",
      "1720000 1730000\n",
      "1730000 1740000\n",
      "1740000 1750000\n",
      "1750000 1760000\n",
      "1760000 1770000\n",
      "1770000 1780000\n",
      "1780000 1790000\n",
      "1790000 1800000\n",
      "1800000 1810000\n",
      "1810000 1820000\n",
      "1820000 1830000\n",
      "1830000 1840000\n",
      "1840000 1850000\n",
      "1850000 1860000\n",
      "1860000 1870000\n",
      "1870000 1880000\n",
      "1880000 1890000\n",
      "1890000 1900000\n",
      "1900000 1910000\n",
      "1910000 1920000\n",
      "1920000 1930000\n",
      "1930000 1940000\n",
      "1940000 1950000\n",
      "1950000 1960000\n",
      "1960000 1970000\n",
      "1970000 1980000\n",
      "1980000 1990000\n",
      "1990000 2000000\n",
      "2000000 2010000\n",
      "2010000 2020000\n",
      "2020000 2030000\n",
      "2030000 2038140\n"
     ]
    }
   ],
   "source": [
    "range_arr = list()\n",
    "step = 10000\n",
    "start = 0\n",
    "for i in range(step, len(X_train_balanced), step):\n",
    "    range_arr.append((start, i))\n",
    "    start = i\n",
    "\n",
    "range_arr.append((start, len(X_train_balanced)))\n",
    "for i in range_arr:\n",
    "    s, end = i\n",
    "    print(s, end)\n",
    "    "
   ]
  },
  {
   "cell_type": "markdown",
   "metadata": {
    "pycharm": {
     "name": "#%% md\n"
    }
   },
   "source": [
    "## Hot-one transformation and save X_train_balanced to hard disk\n"
   ]
  },
  {
   "cell_type": "code",
   "execution_count": 130,
   "metadata": {
    "pycharm": {
     "is_executing": false,
     "name": "#%%\n"
    }
   },
   "outputs": [
    {
     "name": "stdout",
     "output_type": "stream",
     "text": [
      "10000 69.33211374282837\n",
      "20000 69.95548892021179\n",
      "30000 69.28317618370056\n",
      "40000 69.99145293235779\n",
      "50000 70.39108395576477\n",
      "60000 69.79766726493835\n",
      "70000 68.86758708953857\n",
      "80000 68.89756727218628\n",
      "90000 68.91856527328491\n",
      "100000 68.60686802864075\n",
      "110000 69.90154218673706\n",
      "120000 69.66678547859192\n",
      "130000 69.30017685890198\n",
      "140000 69.17228937149048\n",
      "150000 68.98448491096497\n",
      "160000 68.31816005706787\n",
      "170000 69.48497009277344\n",
      "180000 69.59385871887207\n",
      "190000 68.9095573425293\n",
      "200000 69.21424698829651\n",
      "210000 69.78866028785706\n",
      "220000 69.22423696517944\n",
      "230000 68.46501469612122\n",
      "240000 69.79265713691711\n",
      "250000 70.46596693992615\n",
      "260000 70.23522329330444\n",
      "270000 71.41398024559021\n",
      "280000 69.26519393920898\n",
      "290000 72.39199924468994\n",
      "300000 71.93346548080444\n",
      "310000 69.29615998268127\n",
      "320000 71.72068428993225\n",
      "330000 69.41004681587219\n",
      "340000 70.97582149505615\n",
      "350000 72.04135608673096\n",
      "360000 71.57647061347961\n",
      "370000 69.28071928024292\n",
      "380000 74.03511452674866\n",
      "390000 69.19325566291809\n",
      "400000 69.82562255859375\n",
      "410000 69.37108564376831\n",
      "420000 70.71670770645142\n",
      "430000 71.4110016822815\n",
      "440000 71.48294615745544\n",
      "450000 72.59379196166992\n",
      "460000 72.13828229904175\n",
      "470000 72.83439564704895\n",
      "480000 72.02137660980225\n",
      "490000 72.58729362487793\n",
      "500000 70.33829188346863\n",
      "510000 72.57375955581665\n",
      "520000 72.0447268486023\n",
      "530000 71.77599310874939\n",
      "540000 68.99536085128784\n",
      "550000 68.70276951789856\n",
      "560000 67.99449419975281\n",
      "570000 68.5319435596466\n",
      "580000 69.20026111602783\n",
      "590000 68.63984298706055\n",
      "600000 72.73765873908997\n",
      "610000 69.92344856262207\n",
      "620000 71.29812932014465\n",
      "630000 74.22711443901062\n",
      "640000 70.2282235622406\n",
      "650000 69.44502234458923\n",
      "660000 70.84359812736511\n",
      "670000 75.3040099143982\n",
      "680000 74.72261667251587\n",
      "690000 69.93251276016235\n",
      "700000 71.188236951828\n",
      "710000 70.52190232276917\n",
      "720000 71.6077995300293\n",
      "730000 71.95644426345825\n",
      "740000 69.83661007881165\n",
      "750000 71.59281587600708\n",
      "760000 72.00439691543579\n",
      "770000 71.84555530548096\n",
      "780000 69.55689454078674\n",
      "790000 71.81760001182556\n",
      "800000 71.85256624221802\n",
      "810000 72.44296860694885\n",
      "820000 71.33509063720703\n",
      "830000 72.39599347114563\n",
      "840000 72.9534375667572\n",
      "850000 77.87162518501282\n",
      "860000 75.77147626876831\n",
      "870000 71.68372201919556\n",
      "880000 71.32210803031921\n",
      "890000 72.0413556098938\n",
      "900000 70.69773030281067\n",
      "910000 70.56388425827026\n",
      "920000 69.11196279525757\n",
      "930000 68.59288239479065\n",
      "940000 70.71972012519836\n",
      "950000 72.70168423652649\n",
      "960000 69.33611345291138\n",
      "970000 70.27094769477844\n",
      "980000 70.17128348350525\n",
      "990000 68.38608932495117\n",
      "1000000 69.85060691833496\n",
      "1010000 70.95100831985474\n",
      "1020000 71.54388070106506\n",
      "1030000 69.08736205101013\n",
      "1040000 70.51592469215393\n",
      "1050000 148.56563878059387\n",
      "1060000 244.7318274974823\n",
      "1070000 201.7497637271881\n",
      "1080000 78.49976992607117\n",
      "1090000 69.64582300186157\n",
      "1100000 70.85959553718567\n",
      "1110000 72.35503315925598\n",
      "1120000 69.58388638496399\n",
      "1130000 71.06635284423828\n",
      "1140000 70.40305209159851\n",
      "1150000 72.42898106575012\n",
      "1160000 70.70372438430786\n",
      "1170000 70.30814623832703\n",
      "1180000 72.24514746665955\n",
      "1190000 70.84957766532898\n",
      "1200000 71.90449595451355\n",
      "1210000 71.64337015151978\n",
      "1220000 139.48441243171692\n",
      "1230000 191.89684891700745\n",
      "1240000 69.78767418861389\n",
      "1250000 69.97846722602844\n",
      "1260000 70.31514930725098\n",
      "1270000 70.963458776474\n",
      "1280000 73.13324046134949\n",
      "1290000 73.19517827033997\n",
      "1300000 152.67093515396118\n",
      "1310000 265.2678346633911\n",
      "1320000 262.92622923851013\n",
      "1330000 135.31667232513428\n",
      "1340000 71.3970251083374\n",
      "1350000 72.63374209403992\n",
      "1360000 71.97044658660889\n",
      "1370000 70.80247735977173\n",
      "1380000 68.8383207321167\n",
      "1390000 68.12538242340088\n",
      "1400000 68.15230798721313\n",
      "1410000 70.9155068397522\n",
      "1420000 71.42200350761414\n",
      "1430000 73.03435969352722\n",
      "1440000 71.27312445640564\n",
      "1450000 70.94749522209167\n",
      "1460000 114.81663131713867\n",
      "1470000 168.76599884033203\n",
      "1480000 72.03937935829163\n",
      "1490000 213.2090504169464\n",
      "1500000 257.23105120658875\n",
      "1510000 214.94627475738525\n",
      "1520000 100.31847286224365\n",
      "1530000 68.06440019607544\n",
      "1540000 68.49498248100281\n",
      "1550000 68.45801973342896\n",
      "1560000 69.70911931991577\n",
      "1570000 70.66175079345703\n",
      "1580000 74.33410882949829\n",
      "1590000 73.69190430641174\n",
      "1600000 67.8006739616394\n",
      "1610000 73.41596984863281\n",
      "1620000 81.1220760345459\n",
      "1630000 109.42815065383911\n",
      "1640000 277.86796736717224\n",
      "1650000 160.57785201072693\n",
      "1660000 69.02943515777588\n",
      "1670000 69.92452073097229\n",
      "1680000 72.4249632358551\n",
      "1690000 71.75168180465698\n",
      "1700000 72.16221785545349\n",
      "1710000 71.40800499916077\n",
      "1720000 72.36903476715088\n",
      "1730000 68.62584805488586\n",
      "1740000 70.93448853492737\n",
      "1750000 71.81958317756653\n",
      "1760000 69.20525693893433\n",
      "1770000 70.28416228294373\n",
      "1780000 70.03839492797852\n",
      "1790000 71.41700196266174\n",
      "1800000 72.61278104782104\n",
      "1810000 72.43793725967407\n",
      "1820000 70.06138491630554\n",
      "1830000 71.00262975692749\n",
      "1840000 71.62778902053833\n",
      "1850000 71.57682156562805\n",
      "1860000 70.92849516868591\n",
      "1870000 72.48591995239258\n",
      "1880000 71.26713061332703\n",
      "1890000 68.03447008132935\n",
      "1900000 70.68473362922668\n",
      "1910000 73.2351291179657\n",
      "1920000 73.56181979179382\n",
      "1930000 70.71970963478088\n",
      "1940000 70.92350959777832\n",
      "1950000 71.49390649795532\n",
      "1960000 71.36904382705688\n",
      "1970000 72.34105086326599\n",
      "1980000 70.67177557945251\n",
      "1990000 72.63273429870605\n",
      "2000000 69.93650817871094\n",
      "2010000 72.06333613395691\n",
      "2020000 71.72766971588135\n",
      "2030000 72.03835940361023\n",
      "2038140 50.61527228355408\n"
     ]
    }
   ],
   "source": [
    "import time;\n",
    "\n",
    "for r in range_arr:\n",
    "    start_time = time.time()\n",
    "    begin, end = r\n",
    "    # input all data\n",
    "    extension_data = extend2D(X_train_balanced[begin:end], extensionSize=32)\n",
    "    \n",
    "    os.makedirs('tmp', exist_ok=True)\n",
    "    path_saved = \"tmp/balanced-raw\"+str(begin)+\"_\"+str(end);\n",
    "    extension_data.to_csv(path_saved, header=False)\n",
    "    \n",
    "    end_time = time.time()\n",
    "    print(end, end_time-start_time)"
   ]
  },
  {
   "cell_type": "code",
   "execution_count": null,
   "metadata": {
    "pycharm": {
     "name": "#%%\n"
    }
   },
   "outputs": [],
   "source": []
  }
 ],
 "metadata": {
  "kernelspec": {
   "display_name": "fastai",
   "language": "python",
   "name": "fastai"
  },
  "language_info": {
   "codemirror_mode": {
    "name": "ipython",
    "version": 3
   },
   "file_extension": ".py",
   "mimetype": "text/x-python",
   "name": "python",
   "nbconvert_exporter": "python",
   "pygments_lexer": "ipython3",
   "version": "3.6.7"
  },
  "pycharm": {
   "stem_cell": {
    "cell_type": "raw",
    "source": [],
    "metadata": {
     "collapsed": false
    }
   }
  }
 },
 "nbformat": 4,
 "nbformat_minor": 2
}